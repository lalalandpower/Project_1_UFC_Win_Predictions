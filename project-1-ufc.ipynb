{
 "cells": [
  {
   "cell_type": "code",
   "execution_count": 1,
   "id": "0b509a55",
   "metadata": {
    "_cell_guid": "b1076dfc-b9ad-4769-8c92-a6c4dae69d19",
    "_uuid": "8f2839f25d086af736a60e9eeb907d3b93b6e0e5",
    "execution": {
     "iopub.execute_input": "2024-02-15T23:34:07.492281Z",
     "iopub.status.busy": "2024-02-15T23:34:07.491706Z",
     "iopub.status.idle": "2024-02-15T23:34:08.439113Z",
     "shell.execute_reply": "2024-02-15T23:34:08.437823Z"
    },
    "papermill": {
     "duration": 0.961575,
     "end_time": "2024-02-15T23:34:08.441722",
     "exception": false,
     "start_time": "2024-02-15T23:34:07.480147",
     "status": "completed"
    },
    "tags": []
   },
   "outputs": [
    {
     "name": "stdout",
     "output_type": "stream",
     "text": [
      "/kaggle/input/ufc-events-data-till-2023/ufc.csv\n"
     ]
    }
   ],
   "source": [
    "# This Python 3 environment comes with many helpful analytics libraries installed\n",
    "# It is defined by the kaggle/python Docker image: https://github.com/kaggle/docker-python\n",
    "# For example, here's several helpful packages to load\n",
    "\n",
    "import numpy as np # linear algebra\n",
    "import pandas as pd # data processing, CSV file I/O (e.g. pd.read_csv)\n",
    "\n",
    "# Input data files are available in the read-only \"../input/\" directory\n",
    "# For example, running this (by clicking run or pressing Shift+Enter) will list all files under the input directory\n",
    "\n",
    "import os\n",
    "for dirname, _, filenames in os.walk('/kaggle/input'):\n",
    "    for filename in filenames:\n",
    "        print(os.path.join(dirname, filename))\n",
    "\n",
    "# You can write up to 20GB to the current directory (/kaggle/working/) that gets preserved as output when you create a version using \"Save & Run All\" \n",
    "# You can also write temporary files to /kaggle/temp/, but they won't be saved outside of the current session"
   ]
  },
  {
   "cell_type": "code",
   "execution_count": 2,
   "id": "a2dfb1df",
   "metadata": {
    "execution": {
     "iopub.execute_input": "2024-02-15T23:34:08.463309Z",
     "iopub.status.busy": "2024-02-15T23:34:08.462534Z",
     "iopub.status.idle": "2024-02-15T23:34:10.726170Z",
     "shell.execute_reply": "2024-02-15T23:34:10.725057Z"
    },
    "papermill": {
     "duration": 2.276831,
     "end_time": "2024-02-15T23:34:10.728377",
     "exception": false,
     "start_time": "2024-02-15T23:34:08.451546",
     "status": "completed"
    },
    "tags": []
   },
   "outputs": [],
   "source": [
    "# For data visualization\n",
    "import matplotlib.pyplot as plt\n",
    "import seaborn as sns\n",
    "\n",
    "# For displaying all of the columns in dataframes\n",
    "pd.set_option('display.max_columns', None)\n",
    "\n",
    "# For data modeling\n",
    "from xgboost import XGBClassifier\n",
    "from xgboost import XGBRegressor\n",
    "from xgboost import plot_importance\n",
    "\n",
    "from sklearn.linear_model import LogisticRegression\n",
    "from sklearn.tree import DecisionTreeClassifier\n",
    "from sklearn.ensemble import RandomForestClassifier\n",
    "\n",
    "# For metrics and helpful functions\n",
    "from sklearn.model_selection import GridSearchCV, train_test_split\n",
    "from sklearn.metrics import accuracy_score, precision_score, recall_score,\\\n",
    "f1_score, confusion_matrix, ConfusionMatrixDisplay, classification_report\n",
    "from sklearn.metrics import roc_auc_score, roc_curve\n",
    "from sklearn.tree import plot_tree"
   ]
  },
  {
   "cell_type": "code",
   "execution_count": 3,
   "id": "4538b479",
   "metadata": {
    "execution": {
     "iopub.execute_input": "2024-02-15T23:34:10.751506Z",
     "iopub.status.busy": "2024-02-15T23:34:10.751175Z",
     "iopub.status.idle": "2024-02-15T23:34:10.830172Z",
     "shell.execute_reply": "2024-02-15T23:34:10.828961Z"
    },
    "papermill": {
     "duration": 0.093173,
     "end_time": "2024-02-15T23:34:10.832149",
     "exception": false,
     "start_time": "2024-02-15T23:34:10.738976",
     "status": "completed"
    },
    "tags": []
   },
   "outputs": [
    {
     "data": {
      "text/html": [
       "<div>\n",
       "<style scoped>\n",
       "    .dataframe tbody tr th:only-of-type {\n",
       "        vertical-align: middle;\n",
       "    }\n",
       "\n",
       "    .dataframe tbody tr th {\n",
       "        vertical-align: top;\n",
       "    }\n",
       "\n",
       "    .dataframe thead th {\n",
       "        text-align: right;\n",
       "    }\n",
       "</style>\n",
       "<table border=\"1\" class=\"dataframe\">\n",
       "  <thead>\n",
       "    <tr style=\"text-align: right;\">\n",
       "      <th></th>\n",
       "      <th>Location</th>\n",
       "      <th>Fighter 1</th>\n",
       "      <th>Fighter 2</th>\n",
       "      <th>Fighter_1_KD</th>\n",
       "      <th>Fighter_2_KD</th>\n",
       "      <th>Fighter_1_STR</th>\n",
       "      <th>Fighter_2_STR</th>\n",
       "      <th>Fighter_1_TD</th>\n",
       "      <th>Fighter_2_TD</th>\n",
       "      <th>Fighter_1_SUB</th>\n",
       "      <th>Fighter_2_SUB</th>\n",
       "      <th>Weight_Class</th>\n",
       "      <th>Method</th>\n",
       "      <th>Round</th>\n",
       "      <th>Time</th>\n",
       "      <th>Event Name</th>\n",
       "      <th>Date</th>\n",
       "      <th>Winner</th>\n",
       "    </tr>\n",
       "  </thead>\n",
       "  <tbody>\n",
       "    <tr>\n",
       "      <th>0</th>\n",
       "      <td>Austin, Texas, USA</td>\n",
       "      <td>Arman Tsarukyan</td>\n",
       "      <td>Beneil Dariush</td>\n",
       "      <td>1.0</td>\n",
       "      <td>0.0</td>\n",
       "      <td>8.0</td>\n",
       "      <td>2.0</td>\n",
       "      <td>0.0</td>\n",
       "      <td>0.0</td>\n",
       "      <td>0.0</td>\n",
       "      <td>0.0</td>\n",
       "      <td>Lightweight</td>\n",
       "      <td>KO/TKO Punch</td>\n",
       "      <td>1.0</td>\n",
       "      <td>1:04</td>\n",
       "      <td>UFC Fight Night</td>\n",
       "      <td>2-Dec-23</td>\n",
       "      <td>Arman Tsarukyan</td>\n",
       "    </tr>\n",
       "    <tr>\n",
       "      <th>1</th>\n",
       "      <td>Austin, Texas, USA</td>\n",
       "      <td>Jalin Turner</td>\n",
       "      <td>Bobby Green</td>\n",
       "      <td>1.0</td>\n",
       "      <td>0.0</td>\n",
       "      <td>33.0</td>\n",
       "      <td>15.0</td>\n",
       "      <td>0.0</td>\n",
       "      <td>0.0</td>\n",
       "      <td>0.0</td>\n",
       "      <td>0.0</td>\n",
       "      <td>Lightweight</td>\n",
       "      <td>KO/TKO Punches</td>\n",
       "      <td>1.0</td>\n",
       "      <td>2:49</td>\n",
       "      <td>UFC Fight Night</td>\n",
       "      <td>2-Dec-23</td>\n",
       "      <td>Jalin Turner</td>\n",
       "    </tr>\n",
       "    <tr>\n",
       "      <th>2</th>\n",
       "      <td>Austin, Texas, USA</td>\n",
       "      <td>Deiveson Figueiredo</td>\n",
       "      <td>Rob Font</td>\n",
       "      <td>0.0</td>\n",
       "      <td>0.0</td>\n",
       "      <td>45.0</td>\n",
       "      <td>46.0</td>\n",
       "      <td>4.0</td>\n",
       "      <td>0.0</td>\n",
       "      <td>0.0</td>\n",
       "      <td>0.0</td>\n",
       "      <td>Bantamweight</td>\n",
       "      <td>U-DEC</td>\n",
       "      <td>3.0</td>\n",
       "      <td>5:00</td>\n",
       "      <td>UFC Fight Night</td>\n",
       "      <td>2-Dec-23</td>\n",
       "      <td>Deiveson Figueiredo</td>\n",
       "    </tr>\n",
       "    <tr>\n",
       "      <th>3</th>\n",
       "      <td>Austin, Texas, USA</td>\n",
       "      <td>Sean Brady</td>\n",
       "      <td>Kelvin Gastelum</td>\n",
       "      <td>0.0</td>\n",
       "      <td>0.0</td>\n",
       "      <td>14.0</td>\n",
       "      <td>18.0</td>\n",
       "      <td>5.0</td>\n",
       "      <td>0.0</td>\n",
       "      <td>3.0</td>\n",
       "      <td>0.0</td>\n",
       "      <td>Welterweight</td>\n",
       "      <td>SUB Kimura</td>\n",
       "      <td>3.0</td>\n",
       "      <td>1:43</td>\n",
       "      <td>UFC Fight Night</td>\n",
       "      <td>2-Dec-23</td>\n",
       "      <td>Sean Brady</td>\n",
       "    </tr>\n",
       "    <tr>\n",
       "      <th>4</th>\n",
       "      <td>Austin, Texas, USA</td>\n",
       "      <td>Joaquim Silva</td>\n",
       "      <td>Clay Guida</td>\n",
       "      <td>0.0</td>\n",
       "      <td>0.0</td>\n",
       "      <td>46.0</td>\n",
       "      <td>43.0</td>\n",
       "      <td>2.0</td>\n",
       "      <td>2.0</td>\n",
       "      <td>2.0</td>\n",
       "      <td>0.0</td>\n",
       "      <td>Lightweight</td>\n",
       "      <td>U-DEC</td>\n",
       "      <td>3.0</td>\n",
       "      <td>5:00</td>\n",
       "      <td>UFC Fight Night</td>\n",
       "      <td>2-Dec-23</td>\n",
       "      <td>Joaquim Silva</td>\n",
       "    </tr>\n",
       "  </tbody>\n",
       "</table>\n",
       "</div>"
      ],
      "text/plain": [
       "             Location            Fighter 1        Fighter 2  Fighter_1_KD  \\\n",
       "0  Austin, Texas, USA      Arman Tsarukyan   Beneil Dariush           1.0   \n",
       "1  Austin, Texas, USA         Jalin Turner      Bobby Green           1.0   \n",
       "2  Austin, Texas, USA  Deiveson Figueiredo         Rob Font           0.0   \n",
       "3  Austin, Texas, USA           Sean Brady  Kelvin Gastelum           0.0   \n",
       "4  Austin, Texas, USA        Joaquim Silva       Clay Guida           0.0   \n",
       "\n",
       "   Fighter_2_KD  Fighter_1_STR  Fighter_2_STR  Fighter_1_TD  Fighter_2_TD  \\\n",
       "0           0.0            8.0            2.0           0.0           0.0   \n",
       "1           0.0           33.0           15.0           0.0           0.0   \n",
       "2           0.0           45.0           46.0           4.0           0.0   \n",
       "3           0.0           14.0           18.0           5.0           0.0   \n",
       "4           0.0           46.0           43.0           2.0           2.0   \n",
       "\n",
       "   Fighter_1_SUB  Fighter_2_SUB  Weight_Class          Method  Round  Time  \\\n",
       "0            0.0            0.0   Lightweight    KO/TKO Punch    1.0  1:04   \n",
       "1            0.0            0.0   Lightweight  KO/TKO Punches    1.0  2:49   \n",
       "2            0.0            0.0  Bantamweight           U-DEC    3.0  5:00   \n",
       "3            3.0            0.0  Welterweight      SUB Kimura    3.0  1:43   \n",
       "4            2.0            0.0   Lightweight           U-DEC    3.0  5:00   \n",
       "\n",
       "        Event Name      Date               Winner  \n",
       "0  UFC Fight Night  2-Dec-23      Arman Tsarukyan  \n",
       "1  UFC Fight Night  2-Dec-23         Jalin Turner  \n",
       "2  UFC Fight Night  2-Dec-23  Deiveson Figueiredo  \n",
       "3  UFC Fight Night  2-Dec-23           Sean Brady  \n",
       "4  UFC Fight Night  2-Dec-23        Joaquim Silva  "
      ]
     },
     "execution_count": 3,
     "metadata": {},
     "output_type": "execute_result"
    }
   ],
   "source": [
    "# Load the data\n",
    "ufc_df = pd.read_csv('/kaggle/input/ufc-events-data-till-2023/ufc.csv')\n",
    "ufc_df.head()"
   ]
  },
  {
   "cell_type": "code",
   "execution_count": 4,
   "id": "c4933dea",
   "metadata": {
    "execution": {
     "iopub.execute_input": "2024-02-15T23:34:10.855374Z",
     "iopub.status.busy": "2024-02-15T23:34:10.855036Z",
     "iopub.status.idle": "2024-02-15T23:34:10.886348Z",
     "shell.execute_reply": "2024-02-15T23:34:10.884661Z"
    },
    "papermill": {
     "duration": 0.045821,
     "end_time": "2024-02-15T23:34:10.888371",
     "exception": false,
     "start_time": "2024-02-15T23:34:10.842550",
     "status": "completed"
    },
    "tags": []
   },
   "outputs": [
    {
     "name": "stdout",
     "output_type": "stream",
     "text": [
      "<class 'pandas.core.frame.DataFrame'>\n",
      "RangeIndex: 7417 entries, 0 to 7416\n",
      "Data columns (total 18 columns):\n",
      " #   Column         Non-Null Count  Dtype  \n",
      "---  ------         --------------  -----  \n",
      " 0   Location       7417 non-null   object \n",
      " 1   Fighter 1      7417 non-null   object \n",
      " 2   Fighter 2      7413 non-null   object \n",
      " 3   Fighter_1_KD   7413 non-null   float64\n",
      " 4   Fighter_2_KD   7413 non-null   float64\n",
      " 5   Fighter_1_STR  7413 non-null   float64\n",
      " 6   Fighter_2_STR  7413 non-null   float64\n",
      " 7   Fighter_1_TD   7413 non-null   float64\n",
      " 8   Fighter_2_TD   7413 non-null   float64\n",
      " 9   Fighter_1_SUB  7413 non-null   float64\n",
      " 10  Fighter_2_SUB  7413 non-null   float64\n",
      " 11  Weight_Class   7413 non-null   object \n",
      " 12  Method         7413 non-null   object \n",
      " 13  Round          7413 non-null   float64\n",
      " 14  Time           7413 non-null   object \n",
      " 15  Event Name     7413 non-null   object \n",
      " 16  Date           7412 non-null   object \n",
      " 17  Winner         7414 non-null   object \n",
      "dtypes: float64(9), object(9)\n",
      "memory usage: 1.0+ MB\n"
     ]
    }
   ],
   "source": [
    "# Get info about the Dataset\n",
    "ufc_df.info()"
   ]
  },
  {
   "cell_type": "code",
   "execution_count": 5,
   "id": "1c4a8c4b",
   "metadata": {
    "execution": {
     "iopub.execute_input": "2024-02-15T23:34:10.909776Z",
     "iopub.status.busy": "2024-02-15T23:34:10.909446Z",
     "iopub.status.idle": "2024-02-15T23:34:10.920920Z",
     "shell.execute_reply": "2024-02-15T23:34:10.919375Z"
    },
    "papermill": {
     "duration": 0.025201,
     "end_time": "2024-02-15T23:34:10.923687",
     "exception": false,
     "start_time": "2024-02-15T23:34:10.898486",
     "status": "completed"
    },
    "tags": []
   },
   "outputs": [
    {
     "data": {
      "text/plain": [
       "Location         0\n",
       "Fighter 1        0\n",
       "Fighter 2        4\n",
       "Fighter_1_KD     4\n",
       "Fighter_2_KD     4\n",
       "Fighter_1_STR    4\n",
       "Fighter_2_STR    4\n",
       "Fighter_1_TD     4\n",
       "Fighter_2_TD     4\n",
       "Fighter_1_SUB    4\n",
       "Fighter_2_SUB    4\n",
       "Weight_Class     4\n",
       "Method           4\n",
       "Round            4\n",
       "Time             4\n",
       "Event Name       4\n",
       "Date             5\n",
       "Winner           3\n",
       "dtype: int64"
      ]
     },
     "execution_count": 5,
     "metadata": {},
     "output_type": "execute_result"
    }
   ],
   "source": [
    "# Check missing data\n",
    "ufc_df.isna().sum()"
   ]
  },
  {
   "cell_type": "code",
   "execution_count": 6,
   "id": "d05e52d1",
   "metadata": {
    "execution": {
     "iopub.execute_input": "2024-02-15T23:34:10.951012Z",
     "iopub.status.busy": "2024-02-15T23:34:10.950153Z",
     "iopub.status.idle": "2024-02-15T23:34:10.968284Z",
     "shell.execute_reply": "2024-02-15T23:34:10.967320Z"
    },
    "papermill": {
     "duration": 0.034016,
     "end_time": "2024-02-15T23:34:10.970413",
     "exception": false,
     "start_time": "2024-02-15T23:34:10.936397",
     "status": "completed"
    },
    "tags": []
   },
   "outputs": [
    {
     "data": {
      "text/plain": [
       "Location         0\n",
       "Fighter 1        0\n",
       "Fighter 2        0\n",
       "Fighter_1_KD     0\n",
       "Fighter_2_KD     0\n",
       "Fighter_1_STR    0\n",
       "Fighter_2_STR    0\n",
       "Fighter_1_TD     0\n",
       "Fighter_2_TD     0\n",
       "Fighter_1_SUB    0\n",
       "Fighter_2_SUB    0\n",
       "Weight_Class     0\n",
       "Method           0\n",
       "Round            0\n",
       "Time             0\n",
       "Event Name       0\n",
       "Date             0\n",
       "Winner           0\n",
       "dtype: int64"
      ]
     },
     "execution_count": 6,
     "metadata": {},
     "output_type": "execute_result"
    }
   ],
   "source": [
    "# Create a new subset with dropped missing observations\n",
    "ufc_df2 = ufc_df.dropna(axis=0)\n",
    "ufc_df2.isna().sum()"
   ]
  },
  {
   "cell_type": "code",
   "execution_count": 7,
   "id": "f2ac119e",
   "metadata": {
    "execution": {
     "iopub.execute_input": "2024-02-15T23:34:10.994909Z",
     "iopub.status.busy": "2024-02-15T23:34:10.994511Z",
     "iopub.status.idle": "2024-02-15T23:34:11.010223Z",
     "shell.execute_reply": "2024-02-15T23:34:11.008664Z"
    },
    "papermill": {
     "duration": 0.030647,
     "end_time": "2024-02-15T23:34:11.012991",
     "exception": false,
     "start_time": "2024-02-15T23:34:10.982344",
     "status": "completed"
    },
    "tags": []
   },
   "outputs": [
    {
     "name": "stdout",
     "output_type": "stream",
     "text": [
      "<class 'pandas.core.frame.DataFrame'>\n",
      "Index: 7412 entries, 0 to 7412\n",
      "Data columns (total 18 columns):\n",
      " #   Column         Non-Null Count  Dtype  \n",
      "---  ------         --------------  -----  \n",
      " 0   Location       7412 non-null   object \n",
      " 1   Fighter 1      7412 non-null   object \n",
      " 2   Fighter 2      7412 non-null   object \n",
      " 3   Fighter_1_KD   7412 non-null   float64\n",
      " 4   Fighter_2_KD   7412 non-null   float64\n",
      " 5   Fighter_1_STR  7412 non-null   float64\n",
      " 6   Fighter_2_STR  7412 non-null   float64\n",
      " 7   Fighter_1_TD   7412 non-null   float64\n",
      " 8   Fighter_2_TD   7412 non-null   float64\n",
      " 9   Fighter_1_SUB  7412 non-null   float64\n",
      " 10  Fighter_2_SUB  7412 non-null   float64\n",
      " 11  Weight_Class   7412 non-null   object \n",
      " 12  Method         7412 non-null   object \n",
      " 13  Round          7412 non-null   float64\n",
      " 14  Time           7412 non-null   object \n",
      " 15  Event Name     7412 non-null   object \n",
      " 16  Date           7412 non-null   object \n",
      " 17  Winner         7412 non-null   object \n",
      "dtypes: float64(9), object(9)\n",
      "memory usage: 1.1+ MB\n"
     ]
    }
   ],
   "source": [
    "# Check how many observations we have left\n",
    "ufc_df2.info()"
   ]
  },
  {
   "cell_type": "code",
   "execution_count": 8,
   "id": "d8ef038f",
   "metadata": {
    "execution": {
     "iopub.execute_input": "2024-02-15T23:34:11.037009Z",
     "iopub.status.busy": "2024-02-15T23:34:11.036148Z",
     "iopub.status.idle": "2024-02-15T23:34:11.053929Z",
     "shell.execute_reply": "2024-02-15T23:34:11.052542Z"
    },
    "papermill": {
     "duration": 0.03244,
     "end_time": "2024-02-15T23:34:11.056181",
     "exception": false,
     "start_time": "2024-02-15T23:34:11.023741",
     "status": "completed"
    },
    "tags": []
   },
   "outputs": [
    {
     "data": {
      "text/plain": [
       "0"
      ]
     },
     "execution_count": 8,
     "metadata": {},
     "output_type": "execute_result"
    }
   ],
   "source": [
    "# Check for duplicates\n",
    "ufc_df2.duplicated().sum()"
   ]
  },
  {
   "cell_type": "code",
   "execution_count": 9,
   "id": "28dd0e40",
   "metadata": {
    "execution": {
     "iopub.execute_input": "2024-02-15T23:34:11.080705Z",
     "iopub.status.busy": "2024-02-15T23:34:11.080280Z",
     "iopub.status.idle": "2024-02-15T23:34:11.117934Z",
     "shell.execute_reply": "2024-02-15T23:34:11.116646Z"
    },
    "papermill": {
     "duration": 0.052692,
     "end_time": "2024-02-15T23:34:11.120290",
     "exception": false,
     "start_time": "2024-02-15T23:34:11.067598",
     "status": "completed"
    },
    "tags": []
   },
   "outputs": [
    {
     "data": {
      "text/html": [
       "<div>\n",
       "<style scoped>\n",
       "    .dataframe tbody tr th:only-of-type {\n",
       "        vertical-align: middle;\n",
       "    }\n",
       "\n",
       "    .dataframe tbody tr th {\n",
       "        vertical-align: top;\n",
       "    }\n",
       "\n",
       "    .dataframe thead th {\n",
       "        text-align: right;\n",
       "    }\n",
       "</style>\n",
       "<table border=\"1\" class=\"dataframe\">\n",
       "  <thead>\n",
       "    <tr style=\"text-align: right;\">\n",
       "      <th></th>\n",
       "      <th>Fighter_1_KD</th>\n",
       "      <th>Fighter_2_KD</th>\n",
       "      <th>Fighter_1_STR</th>\n",
       "      <th>Fighter_2_STR</th>\n",
       "      <th>Fighter_1_TD</th>\n",
       "      <th>Fighter_2_TD</th>\n",
       "      <th>Fighter_1_SUB</th>\n",
       "      <th>Fighter_2_SUB</th>\n",
       "      <th>Round</th>\n",
       "    </tr>\n",
       "  </thead>\n",
       "  <tbody>\n",
       "    <tr>\n",
       "      <th>count</th>\n",
       "      <td>7412.000000</td>\n",
       "      <td>7412.000000</td>\n",
       "      <td>7412.000000</td>\n",
       "      <td>7412.000000</td>\n",
       "      <td>7412.000000</td>\n",
       "      <td>7412.000000</td>\n",
       "      <td>7412.000000</td>\n",
       "      <td>7412.000000</td>\n",
       "      <td>7412.000000</td>\n",
       "    </tr>\n",
       "    <tr>\n",
       "      <th>mean</th>\n",
       "      <td>0.366972</td>\n",
       "      <td>0.063546</td>\n",
       "      <td>43.123314</td>\n",
       "      <td>28.561657</td>\n",
       "      <td>1.452105</td>\n",
       "      <td>0.666352</td>\n",
       "      <td>0.532110</td>\n",
       "      <td>0.250540</td>\n",
       "      <td>2.338505</td>\n",
       "    </tr>\n",
       "    <tr>\n",
       "      <th>std</th>\n",
       "      <td>0.607362</td>\n",
       "      <td>0.268197</td>\n",
       "      <td>34.396949</td>\n",
       "      <td>26.934822</td>\n",
       "      <td>1.981019</td>\n",
       "      <td>1.186660</td>\n",
       "      <td>0.939354</td>\n",
       "      <td>0.689156</td>\n",
       "      <td>1.013716</td>\n",
       "    </tr>\n",
       "    <tr>\n",
       "      <th>min</th>\n",
       "      <td>0.000000</td>\n",
       "      <td>0.000000</td>\n",
       "      <td>0.000000</td>\n",
       "      <td>0.000000</td>\n",
       "      <td>0.000000</td>\n",
       "      <td>0.000000</td>\n",
       "      <td>0.000000</td>\n",
       "      <td>0.000000</td>\n",
       "      <td>1.000000</td>\n",
       "    </tr>\n",
       "    <tr>\n",
       "      <th>25%</th>\n",
       "      <td>0.000000</td>\n",
       "      <td>0.000000</td>\n",
       "      <td>17.000000</td>\n",
       "      <td>8.000000</td>\n",
       "      <td>0.000000</td>\n",
       "      <td>0.000000</td>\n",
       "      <td>0.000000</td>\n",
       "      <td>0.000000</td>\n",
       "      <td>1.000000</td>\n",
       "    </tr>\n",
       "    <tr>\n",
       "      <th>50%</th>\n",
       "      <td>0.000000</td>\n",
       "      <td>0.000000</td>\n",
       "      <td>36.000000</td>\n",
       "      <td>22.000000</td>\n",
       "      <td>1.000000</td>\n",
       "      <td>0.000000</td>\n",
       "      <td>0.000000</td>\n",
       "      <td>0.000000</td>\n",
       "      <td>3.000000</td>\n",
       "    </tr>\n",
       "    <tr>\n",
       "      <th>75%</th>\n",
       "      <td>1.000000</td>\n",
       "      <td>0.000000</td>\n",
       "      <td>61.000000</td>\n",
       "      <td>41.000000</td>\n",
       "      <td>2.000000</td>\n",
       "      <td>1.000000</td>\n",
       "      <td>1.000000</td>\n",
       "      <td>0.000000</td>\n",
       "      <td>3.000000</td>\n",
       "    </tr>\n",
       "    <tr>\n",
       "      <th>max</th>\n",
       "      <td>5.000000</td>\n",
       "      <td>3.000000</td>\n",
       "      <td>445.000000</td>\n",
       "      <td>271.000000</td>\n",
       "      <td>21.000000</td>\n",
       "      <td>11.000000</td>\n",
       "      <td>10.000000</td>\n",
       "      <td>7.000000</td>\n",
       "      <td>5.000000</td>\n",
       "    </tr>\n",
       "  </tbody>\n",
       "</table>\n",
       "</div>"
      ],
      "text/plain": [
       "       Fighter_1_KD  Fighter_2_KD  Fighter_1_STR  Fighter_2_STR  Fighter_1_TD  \\\n",
       "count   7412.000000   7412.000000    7412.000000    7412.000000   7412.000000   \n",
       "mean       0.366972      0.063546      43.123314      28.561657      1.452105   \n",
       "std        0.607362      0.268197      34.396949      26.934822      1.981019   \n",
       "min        0.000000      0.000000       0.000000       0.000000      0.000000   \n",
       "25%        0.000000      0.000000      17.000000       8.000000      0.000000   \n",
       "50%        0.000000      0.000000      36.000000      22.000000      1.000000   \n",
       "75%        1.000000      0.000000      61.000000      41.000000      2.000000   \n",
       "max        5.000000      3.000000     445.000000     271.000000     21.000000   \n",
       "\n",
       "       Fighter_2_TD  Fighter_1_SUB  Fighter_2_SUB        Round  \n",
       "count   7412.000000    7412.000000    7412.000000  7412.000000  \n",
       "mean       0.666352       0.532110       0.250540     2.338505  \n",
       "std        1.186660       0.939354       0.689156     1.013716  \n",
       "min        0.000000       0.000000       0.000000     1.000000  \n",
       "25%        0.000000       0.000000       0.000000     1.000000  \n",
       "50%        0.000000       0.000000       0.000000     3.000000  \n",
       "75%        1.000000       1.000000       0.000000     3.000000  \n",
       "max       11.000000      10.000000       7.000000     5.000000  "
      ]
     },
     "execution_count": 9,
     "metadata": {},
     "output_type": "execute_result"
    }
   ],
   "source": [
    "# Get basic statistical description\n",
    "ufc_df2.describe()"
   ]
  },
  {
   "cell_type": "code",
   "execution_count": 10,
   "id": "8346c92f",
   "metadata": {
    "execution": {
     "iopub.execute_input": "2024-02-15T23:34:11.147427Z",
     "iopub.status.busy": "2024-02-15T23:34:11.147095Z",
     "iopub.status.idle": "2024-02-15T23:34:11.154955Z",
     "shell.execute_reply": "2024-02-15T23:34:11.153900Z"
    },
    "papermill": {
     "duration": 0.021757,
     "end_time": "2024-02-15T23:34:11.156750",
     "exception": false,
     "start_time": "2024-02-15T23:34:11.134993",
     "status": "completed"
    },
    "tags": []
   },
   "outputs": [],
   "source": [
    "# Feature engineering\n",
    "# Create new dataframe with columns of interest\n",
    "ufc_df3 = ufc_df2.drop(['Location','Weight_Class', 'Method', 'Round', 'Time', 'Event Name', 'Date'], axis=1)"
   ]
  },
  {
   "cell_type": "code",
   "execution_count": 11,
   "id": "d430d760",
   "metadata": {
    "execution": {
     "iopub.execute_input": "2024-02-15T23:34:11.183945Z",
     "iopub.status.busy": "2024-02-15T23:34:11.183621Z",
     "iopub.status.idle": "2024-02-15T23:34:11.189188Z",
     "shell.execute_reply": "2024-02-15T23:34:11.188162Z"
    },
    "papermill": {
     "duration": 0.019591,
     "end_time": "2024-02-15T23:34:11.191021",
     "exception": false,
     "start_time": "2024-02-15T23:34:11.171430",
     "status": "completed"
    },
    "tags": []
   },
   "outputs": [
    {
     "data": {
      "text/plain": [
       "Index(['Fighter 1', 'Fighter 2', 'Fighter_1_KD', 'Fighter_2_KD',\n",
       "       'Fighter_1_STR', 'Fighter_2_STR', 'Fighter_1_TD', 'Fighter_2_TD',\n",
       "       'Fighter_1_SUB', 'Fighter_2_SUB', 'Winner'],\n",
       "      dtype='object')"
      ]
     },
     "execution_count": 11,
     "metadata": {},
     "output_type": "execute_result"
    }
   ],
   "source": [
    "# Check columns left\n",
    "ufc_df3.columns"
   ]
  },
  {
   "cell_type": "code",
   "execution_count": 12,
   "id": "4a7e130e",
   "metadata": {
    "execution": {
     "iopub.execute_input": "2024-02-15T23:34:11.215730Z",
     "iopub.status.busy": "2024-02-15T23:34:11.215424Z",
     "iopub.status.idle": "2024-02-15T23:34:11.222048Z",
     "shell.execute_reply": "2024-02-15T23:34:11.220761Z"
    },
    "papermill": {
     "duration": 0.020713,
     "end_time": "2024-02-15T23:34:11.224454",
     "exception": false,
     "start_time": "2024-02-15T23:34:11.203741",
     "status": "completed"
    },
    "tags": []
   },
   "outputs": [],
   "source": [
    "# Split the dataframe into 2, Fighter_1 and Fighter_2, then combine them again to use fight stats to predict match outcome\n",
    "# This way we can use both sides of the data to predict wins/loses\n",
    "ufc_df_F1 = ufc_df3.drop(['Fighter 2', 'Fighter_2_KD', 'Fighter_2_STR', 'Fighter_2_TD', 'Fighter_2_SUB'], axis=1)\n",
    "ufc_df_F2 = ufc_df3.drop(['Fighter 1', 'Fighter_1_KD', 'Fighter_1_STR', 'Fighter_1_TD', 'Fighter_1_SUB'], axis=1)"
   ]
  },
  {
   "cell_type": "code",
   "execution_count": 13,
   "id": "d8e8c060",
   "metadata": {
    "execution": {
     "iopub.execute_input": "2024-02-15T23:34:11.251884Z",
     "iopub.status.busy": "2024-02-15T23:34:11.251477Z",
     "iopub.status.idle": "2024-02-15T23:34:11.257286Z",
     "shell.execute_reply": "2024-02-15T23:34:11.255882Z"
    },
    "papermill": {
     "duration": 0.02368,
     "end_time": "2024-02-15T23:34:11.259346",
     "exception": false,
     "start_time": "2024-02-15T23:34:11.235666",
     "status": "completed"
    },
    "tags": []
   },
   "outputs": [
    {
     "name": "stdout",
     "output_type": "stream",
     "text": [
      "F1: Index(['Fighter 1', 'Fighter_1_KD', 'Fighter_1_STR', 'Fighter_1_TD',\n",
      "       'Fighter_1_SUB', 'Winner'],\n",
      "      dtype='object')\n",
      "F2: Index(['Fighter 2', 'Fighter_2_KD', 'Fighter_2_STR', 'Fighter_2_TD',\n",
      "       'Fighter_2_SUB', 'Winner'],\n",
      "      dtype='object')\n"
     ]
    }
   ],
   "source": [
    "# Check\n",
    "print('F1:', ufc_df_F1.columns)\n",
    "print('F2:', ufc_df_F2.columns)"
   ]
  },
  {
   "cell_type": "code",
   "execution_count": 14,
   "id": "3dafcb3c",
   "metadata": {
    "execution": {
     "iopub.execute_input": "2024-02-15T23:34:11.285410Z",
     "iopub.status.busy": "2024-02-15T23:34:11.284148Z",
     "iopub.status.idle": "2024-02-15T23:34:11.290333Z",
     "shell.execute_reply": "2024-02-15T23:34:11.289630Z"
    },
    "papermill": {
     "duration": 0.020511,
     "end_time": "2024-02-15T23:34:11.292268",
     "exception": false,
     "start_time": "2024-02-15T23:34:11.271757",
     "status": "completed"
    },
    "tags": []
   },
   "outputs": [],
   "source": [
    "# Rename the columns to make it more uniform\n",
    "ufc_df_F1.rename(columns={'Fighter 1': 'Fighter_1', 'Winner': 'Win'}, inplace= True)\n",
    "ufc_df_F2.rename(columns={'Fighter 2': 'Fighter_2', 'Winner': 'Win'}, inplace= True)"
   ]
  },
  {
   "cell_type": "code",
   "execution_count": 15,
   "id": "4d32cea4",
   "metadata": {
    "execution": {
     "iopub.execute_input": "2024-02-15T23:34:11.316826Z",
     "iopub.status.busy": "2024-02-15T23:34:11.315629Z",
     "iopub.status.idle": "2024-02-15T23:34:11.321503Z",
     "shell.execute_reply": "2024-02-15T23:34:11.320819Z"
    },
    "papermill": {
     "duration": 0.020404,
     "end_time": "2024-02-15T23:34:11.323742",
     "exception": false,
     "start_time": "2024-02-15T23:34:11.303338",
     "status": "completed"
    },
    "tags": []
   },
   "outputs": [
    {
     "name": "stdout",
     "output_type": "stream",
     "text": [
      "F1: Index(['Fighter_1', 'Fighter_1_KD', 'Fighter_1_STR', 'Fighter_1_TD',\n",
      "       'Fighter_1_SUB', 'Win'],\n",
      "      dtype='object')\n",
      "F2: Index(['Fighter_2', 'Fighter_2_KD', 'Fighter_2_STR', 'Fighter_2_TD',\n",
      "       'Fighter_2_SUB', 'Win'],\n",
      "      dtype='object')\n"
     ]
    }
   ],
   "source": [
    "# Check\n",
    "print('F1:', ufc_df_F1.columns)\n",
    "print('F2:', ufc_df_F2.columns)"
   ]
  },
  {
   "cell_type": "code",
   "execution_count": 16,
   "id": "aa0d224c",
   "metadata": {
    "execution": {
     "iopub.execute_input": "2024-02-15T23:34:11.347788Z",
     "iopub.status.busy": "2024-02-15T23:34:11.347117Z",
     "iopub.status.idle": "2024-02-15T23:34:11.357530Z",
     "shell.execute_reply": "2024-02-15T23:34:11.355629Z"
    },
    "papermill": {
     "duration": 0.025245,
     "end_time": "2024-02-15T23:34:11.360062",
     "exception": false,
     "start_time": "2024-02-15T23:34:11.334817",
     "status": "completed"
    },
    "tags": []
   },
   "outputs": [],
   "source": [
    "# Need to encode the Win column \n",
    "# If Win = Fighter then 1\n",
    "ufc_df_F1['Win_enc'] = np.where(ufc_df_F1['Fighter_1'] == ufc_df_F1['Win'], '1', '0')\n",
    "ufc_df_F2['Win_enc'] = np.where(ufc_df_F2['Fighter_2'] == ufc_df_F2['Win'], '1', '0')"
   ]
  },
  {
   "cell_type": "code",
   "execution_count": 17,
   "id": "0671a1e7",
   "metadata": {
    "execution": {
     "iopub.execute_input": "2024-02-15T23:34:11.384304Z",
     "iopub.status.busy": "2024-02-15T23:34:11.383670Z",
     "iopub.status.idle": "2024-02-15T23:34:11.398180Z",
     "shell.execute_reply": "2024-02-15T23:34:11.397452Z"
    },
    "papermill": {
     "duration": 0.028657,
     "end_time": "2024-02-15T23:34:11.400114",
     "exception": false,
     "start_time": "2024-02-15T23:34:11.371457",
     "status": "completed"
    },
    "tags": []
   },
   "outputs": [
    {
     "data": {
      "text/html": [
       "<div>\n",
       "<style scoped>\n",
       "    .dataframe tbody tr th:only-of-type {\n",
       "        vertical-align: middle;\n",
       "    }\n",
       "\n",
       "    .dataframe tbody tr th {\n",
       "        vertical-align: top;\n",
       "    }\n",
       "\n",
       "    .dataframe thead th {\n",
       "        text-align: right;\n",
       "    }\n",
       "</style>\n",
       "<table border=\"1\" class=\"dataframe\">\n",
       "  <thead>\n",
       "    <tr style=\"text-align: right;\">\n",
       "      <th></th>\n",
       "      <th>Fighter_1</th>\n",
       "      <th>Fighter_1_KD</th>\n",
       "      <th>Fighter_1_STR</th>\n",
       "      <th>Fighter_1_TD</th>\n",
       "      <th>Fighter_1_SUB</th>\n",
       "      <th>Win</th>\n",
       "      <th>Win_enc</th>\n",
       "    </tr>\n",
       "  </thead>\n",
       "  <tbody>\n",
       "    <tr>\n",
       "      <th>0</th>\n",
       "      <td>Arman Tsarukyan</td>\n",
       "      <td>1.0</td>\n",
       "      <td>8.0</td>\n",
       "      <td>0.0</td>\n",
       "      <td>0.0</td>\n",
       "      <td>Arman Tsarukyan</td>\n",
       "      <td>1</td>\n",
       "    </tr>\n",
       "    <tr>\n",
       "      <th>1</th>\n",
       "      <td>Jalin Turner</td>\n",
       "      <td>1.0</td>\n",
       "      <td>33.0</td>\n",
       "      <td>0.0</td>\n",
       "      <td>0.0</td>\n",
       "      <td>Jalin Turner</td>\n",
       "      <td>1</td>\n",
       "    </tr>\n",
       "    <tr>\n",
       "      <th>2</th>\n",
       "      <td>Deiveson Figueiredo</td>\n",
       "      <td>0.0</td>\n",
       "      <td>45.0</td>\n",
       "      <td>4.0</td>\n",
       "      <td>0.0</td>\n",
       "      <td>Deiveson Figueiredo</td>\n",
       "      <td>1</td>\n",
       "    </tr>\n",
       "    <tr>\n",
       "      <th>3</th>\n",
       "      <td>Sean Brady</td>\n",
       "      <td>0.0</td>\n",
       "      <td>14.0</td>\n",
       "      <td>5.0</td>\n",
       "      <td>3.0</td>\n",
       "      <td>Sean Brady</td>\n",
       "      <td>1</td>\n",
       "    </tr>\n",
       "    <tr>\n",
       "      <th>4</th>\n",
       "      <td>Joaquim Silva</td>\n",
       "      <td>0.0</td>\n",
       "      <td>46.0</td>\n",
       "      <td>2.0</td>\n",
       "      <td>2.0</td>\n",
       "      <td>Joaquim Silva</td>\n",
       "      <td>1</td>\n",
       "    </tr>\n",
       "  </tbody>\n",
       "</table>\n",
       "</div>"
      ],
      "text/plain": [
       "             Fighter_1  Fighter_1_KD  Fighter_1_STR  Fighter_1_TD  \\\n",
       "0      Arman Tsarukyan           1.0            8.0           0.0   \n",
       "1         Jalin Turner           1.0           33.0           0.0   \n",
       "2  Deiveson Figueiredo           0.0           45.0           4.0   \n",
       "3           Sean Brady           0.0           14.0           5.0   \n",
       "4        Joaquim Silva           0.0           46.0           2.0   \n",
       "\n",
       "   Fighter_1_SUB                  Win Win_enc  \n",
       "0            0.0      Arman Tsarukyan       1  \n",
       "1            0.0         Jalin Turner       1  \n",
       "2            0.0  Deiveson Figueiredo       1  \n",
       "3            3.0           Sean Brady       1  \n",
       "4            2.0        Joaquim Silva       1  "
      ]
     },
     "execution_count": 17,
     "metadata": {},
     "output_type": "execute_result"
    }
   ],
   "source": [
    "# Check\n",
    "ufc_df_F1.head()"
   ]
  },
  {
   "cell_type": "code",
   "execution_count": 18,
   "id": "bd83bc52",
   "metadata": {
    "execution": {
     "iopub.execute_input": "2024-02-15T23:34:11.425091Z",
     "iopub.status.busy": "2024-02-15T23:34:11.424395Z",
     "iopub.status.idle": "2024-02-15T23:34:11.437964Z",
     "shell.execute_reply": "2024-02-15T23:34:11.436852Z"
    },
    "papermill": {
     "duration": 0.028588,
     "end_time": "2024-02-15T23:34:11.439763",
     "exception": false,
     "start_time": "2024-02-15T23:34:11.411175",
     "status": "completed"
    },
    "tags": []
   },
   "outputs": [
    {
     "data": {
      "text/html": [
       "<div>\n",
       "<style scoped>\n",
       "    .dataframe tbody tr th:only-of-type {\n",
       "        vertical-align: middle;\n",
       "    }\n",
       "\n",
       "    .dataframe tbody tr th {\n",
       "        vertical-align: top;\n",
       "    }\n",
       "\n",
       "    .dataframe thead th {\n",
       "        text-align: right;\n",
       "    }\n",
       "</style>\n",
       "<table border=\"1\" class=\"dataframe\">\n",
       "  <thead>\n",
       "    <tr style=\"text-align: right;\">\n",
       "      <th></th>\n",
       "      <th>Fighter_2</th>\n",
       "      <th>Fighter_2_KD</th>\n",
       "      <th>Fighter_2_STR</th>\n",
       "      <th>Fighter_2_TD</th>\n",
       "      <th>Fighter_2_SUB</th>\n",
       "      <th>Win</th>\n",
       "      <th>Win_enc</th>\n",
       "    </tr>\n",
       "  </thead>\n",
       "  <tbody>\n",
       "    <tr>\n",
       "      <th>0</th>\n",
       "      <td>Beneil Dariush</td>\n",
       "      <td>0.0</td>\n",
       "      <td>2.0</td>\n",
       "      <td>0.0</td>\n",
       "      <td>0.0</td>\n",
       "      <td>Arman Tsarukyan</td>\n",
       "      <td>0</td>\n",
       "    </tr>\n",
       "    <tr>\n",
       "      <th>1</th>\n",
       "      <td>Bobby Green</td>\n",
       "      <td>0.0</td>\n",
       "      <td>15.0</td>\n",
       "      <td>0.0</td>\n",
       "      <td>0.0</td>\n",
       "      <td>Jalin Turner</td>\n",
       "      <td>0</td>\n",
       "    </tr>\n",
       "    <tr>\n",
       "      <th>2</th>\n",
       "      <td>Rob Font</td>\n",
       "      <td>0.0</td>\n",
       "      <td>46.0</td>\n",
       "      <td>0.0</td>\n",
       "      <td>0.0</td>\n",
       "      <td>Deiveson Figueiredo</td>\n",
       "      <td>0</td>\n",
       "    </tr>\n",
       "    <tr>\n",
       "      <th>3</th>\n",
       "      <td>Kelvin Gastelum</td>\n",
       "      <td>0.0</td>\n",
       "      <td>18.0</td>\n",
       "      <td>0.0</td>\n",
       "      <td>0.0</td>\n",
       "      <td>Sean Brady</td>\n",
       "      <td>0</td>\n",
       "    </tr>\n",
       "    <tr>\n",
       "      <th>4</th>\n",
       "      <td>Clay Guida</td>\n",
       "      <td>0.0</td>\n",
       "      <td>43.0</td>\n",
       "      <td>2.0</td>\n",
       "      <td>0.0</td>\n",
       "      <td>Joaquim Silva</td>\n",
       "      <td>0</td>\n",
       "    </tr>\n",
       "  </tbody>\n",
       "</table>\n",
       "</div>"
      ],
      "text/plain": [
       "         Fighter_2  Fighter_2_KD  Fighter_2_STR  Fighter_2_TD  Fighter_2_SUB  \\\n",
       "0   Beneil Dariush           0.0            2.0           0.0            0.0   \n",
       "1      Bobby Green           0.0           15.0           0.0            0.0   \n",
       "2         Rob Font           0.0           46.0           0.0            0.0   \n",
       "3  Kelvin Gastelum           0.0           18.0           0.0            0.0   \n",
       "4       Clay Guida           0.0           43.0           2.0            0.0   \n",
       "\n",
       "                   Win Win_enc  \n",
       "0      Arman Tsarukyan       0  \n",
       "1         Jalin Turner       0  \n",
       "2  Deiveson Figueiredo       0  \n",
       "3           Sean Brady       0  \n",
       "4        Joaquim Silva       0  "
      ]
     },
     "execution_count": 18,
     "metadata": {},
     "output_type": "execute_result"
    }
   ],
   "source": [
    "# Check \n",
    "ufc_df_F2.head()"
   ]
  },
  {
   "cell_type": "code",
   "execution_count": 19,
   "id": "5df616f2",
   "metadata": {
    "execution": {
     "iopub.execute_input": "2024-02-15T23:34:11.464403Z",
     "iopub.status.busy": "2024-02-15T23:34:11.463832Z",
     "iopub.status.idle": "2024-02-15T23:34:11.474866Z",
     "shell.execute_reply": "2024-02-15T23:34:11.474138Z"
    },
    "papermill": {
     "duration": 0.025522,
     "end_time": "2024-02-15T23:34:11.476705",
     "exception": false,
     "start_time": "2024-02-15T23:34:11.451183",
     "status": "completed"
    },
    "tags": []
   },
   "outputs": [
    {
     "data": {
      "text/plain": [
       "0        True\n",
       "1        True\n",
       "2        True\n",
       "3        True\n",
       "4        True\n",
       "        ...  \n",
       "7408    False\n",
       "7409    False\n",
       "7410    False\n",
       "7411    False\n",
       "7412    False\n",
       "Name: Contains, Length: 7412, dtype: bool"
      ]
     },
     "execution_count": 19,
     "metadata": {},
     "output_type": "execute_result"
    }
   ],
   "source": [
    "# Also need to check if there are any typos for names of winners of original df used\n",
    "ufc_df3['Contains'] = (ufc_df3['Winner'] == ufc_df3['Fighter 1']) | (ufc_df3['Winner'] == ufc_df3['Fighter 2'])\n",
    "ufc_df3['Contains']"
   ]
  },
  {
   "cell_type": "code",
   "execution_count": 20,
   "id": "aea0cb78",
   "metadata": {
    "execution": {
     "iopub.execute_input": "2024-02-15T23:34:11.502193Z",
     "iopub.status.busy": "2024-02-15T23:34:11.501851Z",
     "iopub.status.idle": "2024-02-15T23:34:11.509995Z",
     "shell.execute_reply": "2024-02-15T23:34:11.509221Z"
    },
    "papermill": {
     "duration": 0.022956,
     "end_time": "2024-02-15T23:34:11.511830",
     "exception": false,
     "start_time": "2024-02-15T23:34:11.488874",
     "status": "completed"
    },
    "tags": []
   },
   "outputs": [
    {
     "data": {
      "text/plain": [
       "Contains\n",
       "True     7273\n",
       "False     139\n",
       "Name: count, dtype: int64"
      ]
     },
     "execution_count": 20,
     "metadata": {},
     "output_type": "execute_result"
    }
   ],
   "source": [
    "# Unfortunately this dataset is not gonig to be usable due to the inconsitencies\n",
    "# Examine the falses to see if we can continue \n",
    "ufc_df3['Contains'].value_counts()"
   ]
  },
  {
   "cell_type": "code",
   "execution_count": 21,
   "id": "45de1057",
   "metadata": {
    "execution": {
     "iopub.execute_input": "2024-02-15T23:34:11.539261Z",
     "iopub.status.busy": "2024-02-15T23:34:11.538620Z",
     "iopub.status.idle": "2024-02-15T23:34:11.545086Z",
     "shell.execute_reply": "2024-02-15T23:34:11.544305Z"
    },
    "papermill": {
     "duration": 0.021504,
     "end_time": "2024-02-15T23:34:11.547224",
     "exception": false,
     "start_time": "2024-02-15T23:34:11.525720",
     "status": "completed"
    },
    "tags": []
   },
   "outputs": [],
   "source": [
    "# Not too much of the data is fractured but should further be investigated under normal circumstances\n",
    "# Continue by droping the False rows\n",
    "# Need to backtrack and recreate the split dataframes with an updated complete dataframe\n",
    "ufc_df3.drop(ufc_df3[~ufc_df3['Contains']].index, inplace=True)"
   ]
  },
  {
   "cell_type": "code",
   "execution_count": 22,
   "id": "4671e58f",
   "metadata": {
    "execution": {
     "iopub.execute_input": "2024-02-15T23:34:11.573205Z",
     "iopub.status.busy": "2024-02-15T23:34:11.572396Z",
     "iopub.status.idle": "2024-02-15T23:34:11.578753Z",
     "shell.execute_reply": "2024-02-15T23:34:11.577618Z"
    },
    "papermill": {
     "duration": 0.021553,
     "end_time": "2024-02-15T23:34:11.580624",
     "exception": false,
     "start_time": "2024-02-15T23:34:11.559071",
     "status": "completed"
    },
    "tags": []
   },
   "outputs": [
    {
     "data": {
      "text/plain": [
       "(7273, 12)"
      ]
     },
     "execution_count": 22,
     "metadata": {},
     "output_type": "execute_result"
    }
   ],
   "source": [
    "# Check\n",
    "ufc_df3.shape"
   ]
  },
  {
   "cell_type": "code",
   "execution_count": 23,
   "id": "17057bc1",
   "metadata": {
    "execution": {
     "iopub.execute_input": "2024-02-15T23:34:11.663038Z",
     "iopub.status.busy": "2024-02-15T23:34:11.662428Z",
     "iopub.status.idle": "2024-02-15T23:34:11.673270Z",
     "shell.execute_reply": "2024-02-15T23:34:11.672632Z"
    },
    "papermill": {
     "duration": 0.025529,
     "end_time": "2024-02-15T23:34:11.675168",
     "exception": false,
     "start_time": "2024-02-15T23:34:11.649639",
     "status": "completed"
    },
    "tags": []
   },
   "outputs": [],
   "source": [
    "# Remake the split groups\n",
    "ufc_df_F1 = ufc_df3.drop(['Fighter 2', 'Fighter_2_KD', 'Fighter_2_STR', 'Fighter_2_TD', 'Fighter_2_SUB'], axis=1)\n",
    "ufc_df_F2 = ufc_df3.drop(['Fighter 1', 'Fighter_1_KD', 'Fighter_1_STR', 'Fighter_1_TD', 'Fighter_1_SUB'], axis=1)\n",
    "\n",
    "ufc_df_F1.rename(columns={'Fighter 1': 'Fighter_1', 'Winner': 'Win'}, inplace= True)\n",
    "ufc_df_F2.rename(columns={'Fighter 2': 'Fighter_2', 'Winner': 'Win'}, inplace= True)\n",
    "\n",
    "ufc_df_F1['Win_enc'] = np.where(ufc_df_F1['Fighter_1'] == ufc_df_F1['Win'], '1', '0')\n",
    "ufc_df_F2['Win_enc'] = np.where(ufc_df_F2['Fighter_2'] == ufc_df_F2['Win'], '1', '0')"
   ]
  },
  {
   "cell_type": "code",
   "execution_count": 24,
   "id": "b4ac55e8",
   "metadata": {
    "execution": {
     "iopub.execute_input": "2024-02-15T23:34:11.700472Z",
     "iopub.status.busy": "2024-02-15T23:34:11.699919Z",
     "iopub.status.idle": "2024-02-15T23:34:11.712124Z",
     "shell.execute_reply": "2024-02-15T23:34:11.711303Z"
    },
    "papermill": {
     "duration": 0.026686,
     "end_time": "2024-02-15T23:34:11.713860",
     "exception": false,
     "start_time": "2024-02-15T23:34:11.687174",
     "status": "completed"
    },
    "tags": []
   },
   "outputs": [
    {
     "data": {
      "text/html": [
       "<div>\n",
       "<style scoped>\n",
       "    .dataframe tbody tr th:only-of-type {\n",
       "        vertical-align: middle;\n",
       "    }\n",
       "\n",
       "    .dataframe tbody tr th {\n",
       "        vertical-align: top;\n",
       "    }\n",
       "\n",
       "    .dataframe thead th {\n",
       "        text-align: right;\n",
       "    }\n",
       "</style>\n",
       "<table border=\"1\" class=\"dataframe\">\n",
       "  <thead>\n",
       "    <tr style=\"text-align: right;\">\n",
       "      <th></th>\n",
       "      <th>Fighter_1</th>\n",
       "      <th>Fighter_1_KD</th>\n",
       "      <th>Fighter_1_STR</th>\n",
       "      <th>Fighter_1_TD</th>\n",
       "      <th>Fighter_1_SUB</th>\n",
       "      <th>Win</th>\n",
       "      <th>Contains</th>\n",
       "      <th>Win_enc</th>\n",
       "    </tr>\n",
       "  </thead>\n",
       "  <tbody>\n",
       "    <tr>\n",
       "      <th>0</th>\n",
       "      <td>Arman Tsarukyan</td>\n",
       "      <td>1.0</td>\n",
       "      <td>8.0</td>\n",
       "      <td>0.0</td>\n",
       "      <td>0.0</td>\n",
       "      <td>Arman Tsarukyan</td>\n",
       "      <td>True</td>\n",
       "      <td>1</td>\n",
       "    </tr>\n",
       "    <tr>\n",
       "      <th>1</th>\n",
       "      <td>Jalin Turner</td>\n",
       "      <td>1.0</td>\n",
       "      <td>33.0</td>\n",
       "      <td>0.0</td>\n",
       "      <td>0.0</td>\n",
       "      <td>Jalin Turner</td>\n",
       "      <td>True</td>\n",
       "      <td>1</td>\n",
       "    </tr>\n",
       "    <tr>\n",
       "      <th>2</th>\n",
       "      <td>Deiveson Figueiredo</td>\n",
       "      <td>0.0</td>\n",
       "      <td>45.0</td>\n",
       "      <td>4.0</td>\n",
       "      <td>0.0</td>\n",
       "      <td>Deiveson Figueiredo</td>\n",
       "      <td>True</td>\n",
       "      <td>1</td>\n",
       "    </tr>\n",
       "    <tr>\n",
       "      <th>3</th>\n",
       "      <td>Sean Brady</td>\n",
       "      <td>0.0</td>\n",
       "      <td>14.0</td>\n",
       "      <td>5.0</td>\n",
       "      <td>3.0</td>\n",
       "      <td>Sean Brady</td>\n",
       "      <td>True</td>\n",
       "      <td>1</td>\n",
       "    </tr>\n",
       "    <tr>\n",
       "      <th>4</th>\n",
       "      <td>Joaquim Silva</td>\n",
       "      <td>0.0</td>\n",
       "      <td>46.0</td>\n",
       "      <td>2.0</td>\n",
       "      <td>2.0</td>\n",
       "      <td>Joaquim Silva</td>\n",
       "      <td>True</td>\n",
       "      <td>1</td>\n",
       "    </tr>\n",
       "  </tbody>\n",
       "</table>\n",
       "</div>"
      ],
      "text/plain": [
       "             Fighter_1  Fighter_1_KD  Fighter_1_STR  Fighter_1_TD  \\\n",
       "0      Arman Tsarukyan           1.0            8.0           0.0   \n",
       "1         Jalin Turner           1.0           33.0           0.0   \n",
       "2  Deiveson Figueiredo           0.0           45.0           4.0   \n",
       "3           Sean Brady           0.0           14.0           5.0   \n",
       "4        Joaquim Silva           0.0           46.0           2.0   \n",
       "\n",
       "   Fighter_1_SUB                  Win  Contains Win_enc  \n",
       "0            0.0      Arman Tsarukyan      True       1  \n",
       "1            0.0         Jalin Turner      True       1  \n",
       "2            0.0  Deiveson Figueiredo      True       1  \n",
       "3            3.0           Sean Brady      True       1  \n",
       "4            2.0        Joaquim Silva      True       1  "
      ]
     },
     "execution_count": 24,
     "metadata": {},
     "output_type": "execute_result"
    }
   ],
   "source": [
    "# Check ufc_df_F1\n",
    "ufc_df_F1.head()"
   ]
  },
  {
   "cell_type": "code",
   "execution_count": 25,
   "id": "c9ea96d1",
   "metadata": {
    "execution": {
     "iopub.execute_input": "2024-02-15T23:34:11.740926Z",
     "iopub.status.busy": "2024-02-15T23:34:11.740604Z",
     "iopub.status.idle": "2024-02-15T23:34:11.757111Z",
     "shell.execute_reply": "2024-02-15T23:34:11.755688Z"
    },
    "papermill": {
     "duration": 0.032124,
     "end_time": "2024-02-15T23:34:11.759452",
     "exception": false,
     "start_time": "2024-02-15T23:34:11.727328",
     "status": "completed"
    },
    "tags": []
   },
   "outputs": [
    {
     "data": {
      "text/html": [
       "<div>\n",
       "<style scoped>\n",
       "    .dataframe tbody tr th:only-of-type {\n",
       "        vertical-align: middle;\n",
       "    }\n",
       "\n",
       "    .dataframe tbody tr th {\n",
       "        vertical-align: top;\n",
       "    }\n",
       "\n",
       "    .dataframe thead th {\n",
       "        text-align: right;\n",
       "    }\n",
       "</style>\n",
       "<table border=\"1\" class=\"dataframe\">\n",
       "  <thead>\n",
       "    <tr style=\"text-align: right;\">\n",
       "      <th></th>\n",
       "      <th>Fighter_2</th>\n",
       "      <th>Fighter_2_KD</th>\n",
       "      <th>Fighter_2_STR</th>\n",
       "      <th>Fighter_2_TD</th>\n",
       "      <th>Fighter_2_SUB</th>\n",
       "      <th>Win</th>\n",
       "      <th>Contains</th>\n",
       "      <th>Win_enc</th>\n",
       "    </tr>\n",
       "  </thead>\n",
       "  <tbody>\n",
       "    <tr>\n",
       "      <th>0</th>\n",
       "      <td>Beneil Dariush</td>\n",
       "      <td>0.0</td>\n",
       "      <td>2.0</td>\n",
       "      <td>0.0</td>\n",
       "      <td>0.0</td>\n",
       "      <td>Arman Tsarukyan</td>\n",
       "      <td>True</td>\n",
       "      <td>0</td>\n",
       "    </tr>\n",
       "    <tr>\n",
       "      <th>1</th>\n",
       "      <td>Bobby Green</td>\n",
       "      <td>0.0</td>\n",
       "      <td>15.0</td>\n",
       "      <td>0.0</td>\n",
       "      <td>0.0</td>\n",
       "      <td>Jalin Turner</td>\n",
       "      <td>True</td>\n",
       "      <td>0</td>\n",
       "    </tr>\n",
       "    <tr>\n",
       "      <th>2</th>\n",
       "      <td>Rob Font</td>\n",
       "      <td>0.0</td>\n",
       "      <td>46.0</td>\n",
       "      <td>0.0</td>\n",
       "      <td>0.0</td>\n",
       "      <td>Deiveson Figueiredo</td>\n",
       "      <td>True</td>\n",
       "      <td>0</td>\n",
       "    </tr>\n",
       "    <tr>\n",
       "      <th>3</th>\n",
       "      <td>Kelvin Gastelum</td>\n",
       "      <td>0.0</td>\n",
       "      <td>18.0</td>\n",
       "      <td>0.0</td>\n",
       "      <td>0.0</td>\n",
       "      <td>Sean Brady</td>\n",
       "      <td>True</td>\n",
       "      <td>0</td>\n",
       "    </tr>\n",
       "    <tr>\n",
       "      <th>4</th>\n",
       "      <td>Clay Guida</td>\n",
       "      <td>0.0</td>\n",
       "      <td>43.0</td>\n",
       "      <td>2.0</td>\n",
       "      <td>0.0</td>\n",
       "      <td>Joaquim Silva</td>\n",
       "      <td>True</td>\n",
       "      <td>0</td>\n",
       "    </tr>\n",
       "  </tbody>\n",
       "</table>\n",
       "</div>"
      ],
      "text/plain": [
       "         Fighter_2  Fighter_2_KD  Fighter_2_STR  Fighter_2_TD  Fighter_2_SUB  \\\n",
       "0   Beneil Dariush           0.0            2.0           0.0            0.0   \n",
       "1      Bobby Green           0.0           15.0           0.0            0.0   \n",
       "2         Rob Font           0.0           46.0           0.0            0.0   \n",
       "3  Kelvin Gastelum           0.0           18.0           0.0            0.0   \n",
       "4       Clay Guida           0.0           43.0           2.0            0.0   \n",
       "\n",
       "                   Win  Contains Win_enc  \n",
       "0      Arman Tsarukyan      True       0  \n",
       "1         Jalin Turner      True       0  \n",
       "2  Deiveson Figueiredo      True       0  \n",
       "3           Sean Brady      True       0  \n",
       "4        Joaquim Silva      True       0  "
      ]
     },
     "execution_count": 25,
     "metadata": {},
     "output_type": "execute_result"
    }
   ],
   "source": [
    "# Check ufc_df_F2\n",
    "ufc_df_F2.head()"
   ]
  },
  {
   "cell_type": "code",
   "execution_count": 26,
   "id": "cbfed2c7",
   "metadata": {
    "execution": {
     "iopub.execute_input": "2024-02-15T23:34:11.785643Z",
     "iopub.status.busy": "2024-02-15T23:34:11.785337Z",
     "iopub.status.idle": "2024-02-15T23:34:11.791715Z",
     "shell.execute_reply": "2024-02-15T23:34:11.790232Z"
    },
    "papermill": {
     "duration": 0.02243,
     "end_time": "2024-02-15T23:34:11.794299",
     "exception": false,
     "start_time": "2024-02-15T23:34:11.771869",
     "status": "completed"
    },
    "tags": []
   },
   "outputs": [],
   "source": [
    "# Looks good, time to combine the data, make all the column names the same in both dataframe \n",
    "ufc_df_F1.rename(columns={'Fighter_1': 'Fighter', 'Fighter_1_KD': 'KD', 'Fighter_1_STR':'STR',\n",
    "                          'Fighter_1_TD': 'TD', 'Fighter_1_SUB': 'SUB'}, inplace= True)\n",
    "ufc_df_F2.rename(columns={'Fighter_2': 'Fighter', 'Fighter_2_KD': 'KD', 'Fighter_2_STR':'STR',\n",
    "                          'Fighter_2_TD': 'TD', 'Fighter_2_SUB': 'SUB'}, inplace= True)"
   ]
  },
  {
   "cell_type": "code",
   "execution_count": 27,
   "id": "d6935efa",
   "metadata": {
    "execution": {
     "iopub.execute_input": "2024-02-15T23:34:11.821328Z",
     "iopub.status.busy": "2024-02-15T23:34:11.820714Z",
     "iopub.status.idle": "2024-02-15T23:34:11.832547Z",
     "shell.execute_reply": "2024-02-15T23:34:11.831956Z"
    },
    "papermill": {
     "duration": 0.027212,
     "end_time": "2024-02-15T23:34:11.834232",
     "exception": false,
     "start_time": "2024-02-15T23:34:11.807020",
     "status": "completed"
    },
    "tags": []
   },
   "outputs": [
    {
     "data": {
      "text/html": [
       "<div>\n",
       "<style scoped>\n",
       "    .dataframe tbody tr th:only-of-type {\n",
       "        vertical-align: middle;\n",
       "    }\n",
       "\n",
       "    .dataframe tbody tr th {\n",
       "        vertical-align: top;\n",
       "    }\n",
       "\n",
       "    .dataframe thead th {\n",
       "        text-align: right;\n",
       "    }\n",
       "</style>\n",
       "<table border=\"1\" class=\"dataframe\">\n",
       "  <thead>\n",
       "    <tr style=\"text-align: right;\">\n",
       "      <th></th>\n",
       "      <th>Fighter</th>\n",
       "      <th>KD</th>\n",
       "      <th>STR</th>\n",
       "      <th>TD</th>\n",
       "      <th>SUB</th>\n",
       "      <th>Win</th>\n",
       "      <th>Contains</th>\n",
       "      <th>Win_enc</th>\n",
       "    </tr>\n",
       "  </thead>\n",
       "  <tbody>\n",
       "    <tr>\n",
       "      <th>0</th>\n",
       "      <td>Arman Tsarukyan</td>\n",
       "      <td>1.0</td>\n",
       "      <td>8.0</td>\n",
       "      <td>0.0</td>\n",
       "      <td>0.0</td>\n",
       "      <td>Arman Tsarukyan</td>\n",
       "      <td>True</td>\n",
       "      <td>1</td>\n",
       "    </tr>\n",
       "    <tr>\n",
       "      <th>1</th>\n",
       "      <td>Jalin Turner</td>\n",
       "      <td>1.0</td>\n",
       "      <td>33.0</td>\n",
       "      <td>0.0</td>\n",
       "      <td>0.0</td>\n",
       "      <td>Jalin Turner</td>\n",
       "      <td>True</td>\n",
       "      <td>1</td>\n",
       "    </tr>\n",
       "    <tr>\n",
       "      <th>2</th>\n",
       "      <td>Deiveson Figueiredo</td>\n",
       "      <td>0.0</td>\n",
       "      <td>45.0</td>\n",
       "      <td>4.0</td>\n",
       "      <td>0.0</td>\n",
       "      <td>Deiveson Figueiredo</td>\n",
       "      <td>True</td>\n",
       "      <td>1</td>\n",
       "    </tr>\n",
       "    <tr>\n",
       "      <th>3</th>\n",
       "      <td>Sean Brady</td>\n",
       "      <td>0.0</td>\n",
       "      <td>14.0</td>\n",
       "      <td>5.0</td>\n",
       "      <td>3.0</td>\n",
       "      <td>Sean Brady</td>\n",
       "      <td>True</td>\n",
       "      <td>1</td>\n",
       "    </tr>\n",
       "    <tr>\n",
       "      <th>4</th>\n",
       "      <td>Joaquim Silva</td>\n",
       "      <td>0.0</td>\n",
       "      <td>46.0</td>\n",
       "      <td>2.0</td>\n",
       "      <td>2.0</td>\n",
       "      <td>Joaquim Silva</td>\n",
       "      <td>True</td>\n",
       "      <td>1</td>\n",
       "    </tr>\n",
       "  </tbody>\n",
       "</table>\n",
       "</div>"
      ],
      "text/plain": [
       "               Fighter   KD   STR   TD  SUB                  Win  Contains  \\\n",
       "0      Arman Tsarukyan  1.0   8.0  0.0  0.0      Arman Tsarukyan      True   \n",
       "1         Jalin Turner  1.0  33.0  0.0  0.0         Jalin Turner      True   \n",
       "2  Deiveson Figueiredo  0.0  45.0  4.0  0.0  Deiveson Figueiredo      True   \n",
       "3           Sean Brady  0.0  14.0  5.0  3.0           Sean Brady      True   \n",
       "4        Joaquim Silva  0.0  46.0  2.0  2.0        Joaquim Silva      True   \n",
       "\n",
       "  Win_enc  \n",
       "0       1  \n",
       "1       1  \n",
       "2       1  \n",
       "3       1  \n",
       "4       1  "
      ]
     },
     "execution_count": 27,
     "metadata": {},
     "output_type": "execute_result"
    }
   ],
   "source": [
    "# Check\n",
    "ufc_df_F1.head()"
   ]
  },
  {
   "cell_type": "code",
   "execution_count": 28,
   "id": "ed29eb4f",
   "metadata": {
    "execution": {
     "iopub.execute_input": "2024-02-15T23:34:11.861208Z",
     "iopub.status.busy": "2024-02-15T23:34:11.860671Z",
     "iopub.status.idle": "2024-02-15T23:34:11.872290Z",
     "shell.execute_reply": "2024-02-15T23:34:11.871617Z"
    },
    "papermill": {
     "duration": 0.027941,
     "end_time": "2024-02-15T23:34:11.874657",
     "exception": false,
     "start_time": "2024-02-15T23:34:11.846716",
     "status": "completed"
    },
    "tags": []
   },
   "outputs": [
    {
     "data": {
      "text/html": [
       "<div>\n",
       "<style scoped>\n",
       "    .dataframe tbody tr th:only-of-type {\n",
       "        vertical-align: middle;\n",
       "    }\n",
       "\n",
       "    .dataframe tbody tr th {\n",
       "        vertical-align: top;\n",
       "    }\n",
       "\n",
       "    .dataframe thead th {\n",
       "        text-align: right;\n",
       "    }\n",
       "</style>\n",
       "<table border=\"1\" class=\"dataframe\">\n",
       "  <thead>\n",
       "    <tr style=\"text-align: right;\">\n",
       "      <th></th>\n",
       "      <th>Fighter</th>\n",
       "      <th>KD</th>\n",
       "      <th>STR</th>\n",
       "      <th>TD</th>\n",
       "      <th>SUB</th>\n",
       "      <th>Win</th>\n",
       "      <th>Contains</th>\n",
       "      <th>Win_enc</th>\n",
       "    </tr>\n",
       "  </thead>\n",
       "  <tbody>\n",
       "    <tr>\n",
       "      <th>0</th>\n",
       "      <td>Beneil Dariush</td>\n",
       "      <td>0.0</td>\n",
       "      <td>2.0</td>\n",
       "      <td>0.0</td>\n",
       "      <td>0.0</td>\n",
       "      <td>Arman Tsarukyan</td>\n",
       "      <td>True</td>\n",
       "      <td>0</td>\n",
       "    </tr>\n",
       "    <tr>\n",
       "      <th>1</th>\n",
       "      <td>Bobby Green</td>\n",
       "      <td>0.0</td>\n",
       "      <td>15.0</td>\n",
       "      <td>0.0</td>\n",
       "      <td>0.0</td>\n",
       "      <td>Jalin Turner</td>\n",
       "      <td>True</td>\n",
       "      <td>0</td>\n",
       "    </tr>\n",
       "    <tr>\n",
       "      <th>2</th>\n",
       "      <td>Rob Font</td>\n",
       "      <td>0.0</td>\n",
       "      <td>46.0</td>\n",
       "      <td>0.0</td>\n",
       "      <td>0.0</td>\n",
       "      <td>Deiveson Figueiredo</td>\n",
       "      <td>True</td>\n",
       "      <td>0</td>\n",
       "    </tr>\n",
       "    <tr>\n",
       "      <th>3</th>\n",
       "      <td>Kelvin Gastelum</td>\n",
       "      <td>0.0</td>\n",
       "      <td>18.0</td>\n",
       "      <td>0.0</td>\n",
       "      <td>0.0</td>\n",
       "      <td>Sean Brady</td>\n",
       "      <td>True</td>\n",
       "      <td>0</td>\n",
       "    </tr>\n",
       "    <tr>\n",
       "      <th>4</th>\n",
       "      <td>Clay Guida</td>\n",
       "      <td>0.0</td>\n",
       "      <td>43.0</td>\n",
       "      <td>2.0</td>\n",
       "      <td>0.0</td>\n",
       "      <td>Joaquim Silva</td>\n",
       "      <td>True</td>\n",
       "      <td>0</td>\n",
       "    </tr>\n",
       "  </tbody>\n",
       "</table>\n",
       "</div>"
      ],
      "text/plain": [
       "           Fighter   KD   STR   TD  SUB                  Win  Contains Win_enc\n",
       "0   Beneil Dariush  0.0   2.0  0.0  0.0      Arman Tsarukyan      True       0\n",
       "1      Bobby Green  0.0  15.0  0.0  0.0         Jalin Turner      True       0\n",
       "2         Rob Font  0.0  46.0  0.0  0.0  Deiveson Figueiredo      True       0\n",
       "3  Kelvin Gastelum  0.0  18.0  0.0  0.0           Sean Brady      True       0\n",
       "4       Clay Guida  0.0  43.0  2.0  0.0        Joaquim Silva      True       0"
      ]
     },
     "execution_count": 28,
     "metadata": {},
     "output_type": "execute_result"
    }
   ],
   "source": [
    "# Check\n",
    "ufc_df_F2.head()"
   ]
  },
  {
   "cell_type": "code",
   "execution_count": 29,
   "id": "86521652",
   "metadata": {
    "execution": {
     "iopub.execute_input": "2024-02-15T23:34:11.901162Z",
     "iopub.status.busy": "2024-02-15T23:34:11.900616Z",
     "iopub.status.idle": "2024-02-15T23:34:11.908004Z",
     "shell.execute_reply": "2024-02-15T23:34:11.907117Z"
    },
    "papermill": {
     "duration": 0.023309,
     "end_time": "2024-02-15T23:34:11.910430",
     "exception": false,
     "start_time": "2024-02-15T23:34:11.887121",
     "status": "completed"
    },
    "tags": []
   },
   "outputs": [
    {
     "data": {
      "text/plain": [
       "(14546, 8)"
      ]
     },
     "execution_count": 29,
     "metadata": {},
     "output_type": "execute_result"
    }
   ],
   "source": [
    "# Concat the dataframes\n",
    "ufc_df_concat = pd.concat([ufc_df_F1, ufc_df_F2], axis= 0)\n",
    "ufc_df_concat.shape"
   ]
  },
  {
   "cell_type": "code",
   "execution_count": 30,
   "id": "b419a832",
   "metadata": {
    "execution": {
     "iopub.execute_input": "2024-02-15T23:34:11.937809Z",
     "iopub.status.busy": "2024-02-15T23:34:11.937448Z",
     "iopub.status.idle": "2024-02-15T23:34:11.952269Z",
     "shell.execute_reply": "2024-02-15T23:34:11.951200Z"
    },
    "papermill": {
     "duration": 0.031165,
     "end_time": "2024-02-15T23:34:11.954486",
     "exception": false,
     "start_time": "2024-02-15T23:34:11.923321",
     "status": "completed"
    },
    "tags": []
   },
   "outputs": [
    {
     "data": {
      "text/html": [
       "<div>\n",
       "<style scoped>\n",
       "    .dataframe tbody tr th:only-of-type {\n",
       "        vertical-align: middle;\n",
       "    }\n",
       "\n",
       "    .dataframe tbody tr th {\n",
       "        vertical-align: top;\n",
       "    }\n",
       "\n",
       "    .dataframe thead th {\n",
       "        text-align: right;\n",
       "    }\n",
       "</style>\n",
       "<table border=\"1\" class=\"dataframe\">\n",
       "  <thead>\n",
       "    <tr style=\"text-align: right;\">\n",
       "      <th></th>\n",
       "      <th>Fighter</th>\n",
       "      <th>KD</th>\n",
       "      <th>STR</th>\n",
       "      <th>TD</th>\n",
       "      <th>SUB</th>\n",
       "      <th>Win</th>\n",
       "      <th>Contains</th>\n",
       "      <th>Win_enc</th>\n",
       "    </tr>\n",
       "  </thead>\n",
       "  <tbody>\n",
       "    <tr>\n",
       "      <th>0</th>\n",
       "      <td>Arman Tsarukyan</td>\n",
       "      <td>1.0</td>\n",
       "      <td>8.0</td>\n",
       "      <td>0.0</td>\n",
       "      <td>0.0</td>\n",
       "      <td>Arman Tsarukyan</td>\n",
       "      <td>True</td>\n",
       "      <td>1</td>\n",
       "    </tr>\n",
       "    <tr>\n",
       "      <th>1</th>\n",
       "      <td>Jalin Turner</td>\n",
       "      <td>1.0</td>\n",
       "      <td>33.0</td>\n",
       "      <td>0.0</td>\n",
       "      <td>0.0</td>\n",
       "      <td>Jalin Turner</td>\n",
       "      <td>True</td>\n",
       "      <td>1</td>\n",
       "    </tr>\n",
       "    <tr>\n",
       "      <th>2</th>\n",
       "      <td>Deiveson Figueiredo</td>\n",
       "      <td>0.0</td>\n",
       "      <td>45.0</td>\n",
       "      <td>4.0</td>\n",
       "      <td>0.0</td>\n",
       "      <td>Deiveson Figueiredo</td>\n",
       "      <td>True</td>\n",
       "      <td>1</td>\n",
       "    </tr>\n",
       "    <tr>\n",
       "      <th>3</th>\n",
       "      <td>Sean Brady</td>\n",
       "      <td>0.0</td>\n",
       "      <td>14.0</td>\n",
       "      <td>5.0</td>\n",
       "      <td>3.0</td>\n",
       "      <td>Sean Brady</td>\n",
       "      <td>True</td>\n",
       "      <td>1</td>\n",
       "    </tr>\n",
       "    <tr>\n",
       "      <th>4</th>\n",
       "      <td>Joaquim Silva</td>\n",
       "      <td>0.0</td>\n",
       "      <td>46.0</td>\n",
       "      <td>2.0</td>\n",
       "      <td>2.0</td>\n",
       "      <td>Joaquim Silva</td>\n",
       "      <td>True</td>\n",
       "      <td>1</td>\n",
       "    </tr>\n",
       "  </tbody>\n",
       "</table>\n",
       "</div>"
      ],
      "text/plain": [
       "               Fighter   KD   STR   TD  SUB                  Win  Contains  \\\n",
       "0      Arman Tsarukyan  1.0   8.0  0.0  0.0      Arman Tsarukyan      True   \n",
       "1         Jalin Turner  1.0  33.0  0.0  0.0         Jalin Turner      True   \n",
       "2  Deiveson Figueiredo  0.0  45.0  4.0  0.0  Deiveson Figueiredo      True   \n",
       "3           Sean Brady  0.0  14.0  5.0  3.0           Sean Brady      True   \n",
       "4        Joaquim Silva  0.0  46.0  2.0  2.0        Joaquim Silva      True   \n",
       "\n",
       "  Win_enc  \n",
       "0       1  \n",
       "1       1  \n",
       "2       1  \n",
       "3       1  \n",
       "4       1  "
      ]
     },
     "execution_count": 30,
     "metadata": {},
     "output_type": "execute_result"
    }
   ],
   "source": [
    "# Check\n",
    "ufc_df_concat.head()"
   ]
  },
  {
   "cell_type": "code",
   "execution_count": 31,
   "id": "dd3966d6",
   "metadata": {
    "execution": {
     "iopub.execute_input": "2024-02-15T23:34:11.982153Z",
     "iopub.status.busy": "2024-02-15T23:34:11.981662Z",
     "iopub.status.idle": "2024-02-15T23:34:11.987134Z",
     "shell.execute_reply": "2024-02-15T23:34:11.985744Z"
    },
    "papermill": {
     "duration": 0.021569,
     "end_time": "2024-02-15T23:34:11.989044",
     "exception": false,
     "start_time": "2024-02-15T23:34:11.967475",
     "status": "completed"
    },
    "tags": []
   },
   "outputs": [
    {
     "data": {
      "text/plain": [
       "dtype('O')"
      ]
     },
     "execution_count": 31,
     "metadata": {},
     "output_type": "execute_result"
    }
   ],
   "source": [
    "ufc_df_concat['Win_enc'].dtype"
   ]
  },
  {
   "cell_type": "code",
   "execution_count": 32,
   "id": "9214419c",
   "metadata": {
    "execution": {
     "iopub.execute_input": "2024-02-15T23:34:12.016785Z",
     "iopub.status.busy": "2024-02-15T23:34:12.016215Z",
     "iopub.status.idle": "2024-02-15T23:34:12.031027Z",
     "shell.execute_reply": "2024-02-15T23:34:12.029917Z"
    },
    "papermill": {
     "duration": 0.031583,
     "end_time": "2024-02-15T23:34:12.033628",
     "exception": false,
     "start_time": "2024-02-15T23:34:12.002045",
     "status": "completed"
    },
    "tags": []
   },
   "outputs": [
    {
     "data": {
      "text/html": [
       "<div>\n",
       "<style scoped>\n",
       "    .dataframe tbody tr th:only-of-type {\n",
       "        vertical-align: middle;\n",
       "    }\n",
       "\n",
       "    .dataframe tbody tr th {\n",
       "        vertical-align: top;\n",
       "    }\n",
       "\n",
       "    .dataframe thead th {\n",
       "        text-align: right;\n",
       "    }\n",
       "</style>\n",
       "<table border=\"1\" class=\"dataframe\">\n",
       "  <thead>\n",
       "    <tr style=\"text-align: right;\">\n",
       "      <th></th>\n",
       "      <th>Fighter</th>\n",
       "      <th>KD</th>\n",
       "      <th>STR</th>\n",
       "      <th>TD</th>\n",
       "      <th>SUB</th>\n",
       "      <th>Win_enc</th>\n",
       "    </tr>\n",
       "  </thead>\n",
       "  <tbody>\n",
       "    <tr>\n",
       "      <th>0</th>\n",
       "      <td>Arman Tsarukyan</td>\n",
       "      <td>1.0</td>\n",
       "      <td>8.0</td>\n",
       "      <td>0.0</td>\n",
       "      <td>0.0</td>\n",
       "      <td>1</td>\n",
       "    </tr>\n",
       "    <tr>\n",
       "      <th>1</th>\n",
       "      <td>Jalin Turner</td>\n",
       "      <td>1.0</td>\n",
       "      <td>33.0</td>\n",
       "      <td>0.0</td>\n",
       "      <td>0.0</td>\n",
       "      <td>1</td>\n",
       "    </tr>\n",
       "    <tr>\n",
       "      <th>2</th>\n",
       "      <td>Deiveson Figueiredo</td>\n",
       "      <td>0.0</td>\n",
       "      <td>45.0</td>\n",
       "      <td>4.0</td>\n",
       "      <td>0.0</td>\n",
       "      <td>1</td>\n",
       "    </tr>\n",
       "    <tr>\n",
       "      <th>3</th>\n",
       "      <td>Sean Brady</td>\n",
       "      <td>0.0</td>\n",
       "      <td>14.0</td>\n",
       "      <td>5.0</td>\n",
       "      <td>3.0</td>\n",
       "      <td>1</td>\n",
       "    </tr>\n",
       "    <tr>\n",
       "      <th>4</th>\n",
       "      <td>Joaquim Silva</td>\n",
       "      <td>0.0</td>\n",
       "      <td>46.0</td>\n",
       "      <td>2.0</td>\n",
       "      <td>2.0</td>\n",
       "      <td>1</td>\n",
       "    </tr>\n",
       "  </tbody>\n",
       "</table>\n",
       "</div>"
      ],
      "text/plain": [
       "               Fighter   KD   STR   TD  SUB  Win_enc\n",
       "0      Arman Tsarukyan  1.0   8.0  0.0  0.0        1\n",
       "1         Jalin Turner  1.0  33.0  0.0  0.0        1\n",
       "2  Deiveson Figueiredo  0.0  45.0  4.0  0.0        1\n",
       "3           Sean Brady  0.0  14.0  5.0  3.0        1\n",
       "4        Joaquim Silva  0.0  46.0  2.0  2.0        1"
      ]
     },
     "execution_count": 32,
     "metadata": {},
     "output_type": "execute_result"
    }
   ],
   "source": [
    "# Drop the other columns and change Win_enc from string to int\n",
    "ufc_df_concat = ufc_df_concat.drop(columns={'Win', 'Contains'}, axis= 1)\n",
    "ufc_df_concat['Win_enc'] = ufc_df_concat['Win_enc'].astype(int)\n",
    "ufc_df_concat.head()"
   ]
  },
  {
   "cell_type": "code",
   "execution_count": 33,
   "id": "2381548f",
   "metadata": {
    "execution": {
     "iopub.execute_input": "2024-02-15T23:34:12.063740Z",
     "iopub.status.busy": "2024-02-15T23:34:12.063116Z",
     "iopub.status.idle": "2024-02-15T23:34:12.883070Z",
     "shell.execute_reply": "2024-02-15T23:34:12.881904Z"
    },
    "papermill": {
     "duration": 0.837719,
     "end_time": "2024-02-15T23:34:12.884975",
     "exception": false,
     "start_time": "2024-02-15T23:34:12.047256",
     "status": "completed"
    },
    "tags": []
   },
   "outputs": [
    {
     "data": {
      "image/png": "[encoded data removed]",
      "text/plain": [
       "<Figure size 1500x500 with 1 Axes>"
      ]
     },
     "metadata": {},
     "output_type": "display_data"
    }
   ],
   "source": [
    "# Plot a visualization\n",
    "plt.figure(figsize=(15,5))\n",
    "sns.scatterplot(data=ufc_df_concat, x='STR', y='KD', hue='Win_enc', alpha=0.4)\n",
    "plt.title('Knockdowns by Strikes Landed', fontsize='15');"
   ]
  },
  {
   "cell_type": "code",
   "execution_count": 34,
   "id": "a3e43135",
   "metadata": {
    "execution": {
     "iopub.execute_input": "2024-02-15T23:34:12.916519Z",
     "iopub.status.busy": "2024-02-15T23:34:12.916172Z",
     "iopub.status.idle": "2024-02-15T23:34:12.927101Z",
     "shell.execute_reply": "2024-02-15T23:34:12.926114Z"
    },
    "papermill": {
     "duration": 0.029731,
     "end_time": "2024-02-15T23:34:12.929093",
     "exception": false,
     "start_time": "2024-02-15T23:34:12.899362",
     "status": "completed"
    },
    "tags": []
   },
   "outputs": [
    {
     "data": {
      "text/plain": [
       "Win_enc\n",
       "0    29.036986\n",
       "1    43.749897\n",
       "Name: STR, dtype: float64"
      ]
     },
     "execution_count": 34,
     "metadata": {},
     "output_type": "execute_result"
    }
   ],
   "source": [
    "# Check STR averages\n",
    "STR_averages = ufc_df_concat['STR'].groupby(ufc_df_concat['Win_enc']).mean()\n",
    "STR_averages"
   ]
  },
  {
   "cell_type": "code",
   "execution_count": 35,
   "id": "8fd94d2f",
   "metadata": {
    "execution": {
     "iopub.execute_input": "2024-02-15T23:34:12.959160Z",
     "iopub.status.busy": "2024-02-15T23:34:12.958641Z",
     "iopub.status.idle": "2024-02-15T23:34:12.967479Z",
     "shell.execute_reply": "2024-02-15T23:34:12.966151Z"
    },
    "papermill": {
     "duration": 0.026783,
     "end_time": "2024-02-15T23:34:12.969972",
     "exception": false,
     "start_time": "2024-02-15T23:34:12.943189",
     "status": "completed"
    },
    "tags": []
   },
   "outputs": [
    {
     "data": {
      "text/plain": [
       "Win_enc\n",
       "0    0.064485\n",
       "1    0.372199\n",
       "Name: KD, dtype: float64"
      ]
     },
     "execution_count": 35,
     "metadata": {},
     "output_type": "execute_result"
    }
   ],
   "source": [
    "# Check KD averages\n",
    "KD_averages = ufc_df_concat['KD'].groupby(ufc_df_concat['Win_enc']).mean()\n",
    "KD_averages"
   ]
  },
  {
   "cell_type": "code",
   "execution_count": 36,
   "id": "96a84492",
   "metadata": {
    "execution": {
     "iopub.execute_input": "2024-02-15T23:34:12.999381Z",
     "iopub.status.busy": "2024-02-15T23:34:12.999051Z",
     "iopub.status.idle": "2024-02-15T23:34:13.341706Z",
     "shell.execute_reply": "2024-02-15T23:34:13.340668Z"
    },
    "papermill": {
     "duration": 0.359611,
     "end_time": "2024-02-15T23:34:13.343724",
     "exception": false,
     "start_time": "2024-02-15T23:34:12.984113",
     "status": "completed"
    },
    "tags": []
   },
   "outputs": [
    {
     "data": {
      "image/png": "[encoded data removed]",
      "text/plain": [
       "<Figure size 1600x900 with 2 Axes>"
      ]
     },
     "metadata": {},
     "output_type": "display_data"
    }
   ],
   "source": [
    "# heatmap to see correlation\n",
    "ufc_df_concat2 = ufc_df_concat.drop(['Fighter'], axis=1)\n",
    "plt.figure(figsize=(16, 9))\n",
    "heatmap = sns.heatmap(ufc_df_concat2.corr(), vmin=-1, vmax=1, annot=True, cmap=sns.color_palette(\"vlag\", as_cmap=True))\n",
    "heatmap.set_title('Correlation Heatmap', fontdict={'fontsize':14}, pad=12);"
   ]
  },
  {
   "cell_type": "code",
   "execution_count": 37,
   "id": "553061c8",
   "metadata": {
    "execution": {
     "iopub.execute_input": "2024-02-15T23:34:13.375146Z",
     "iopub.status.busy": "2024-02-15T23:34:13.374806Z",
     "iopub.status.idle": "2024-02-15T23:34:13.385885Z",
     "shell.execute_reply": "2024-02-15T23:34:13.384878Z"
    },
    "papermill": {
     "duration": 0.029268,
     "end_time": "2024-02-15T23:34:13.387996",
     "exception": false,
     "start_time": "2024-02-15T23:34:13.358728",
     "status": "completed"
    },
    "tags": []
   },
   "outputs": [
    {
     "data": {
      "text/plain": [
       "count    14546.000000\n",
       "mean         0.500000\n",
       "std          0.500017\n",
       "min          0.000000\n",
       "25%          0.000000\n",
       "50%          0.500000\n",
       "75%          1.000000\n",
       "max          1.000000\n",
       "Name: Win_enc, dtype: float64"
      ]
     },
     "execution_count": 37,
     "metadata": {},
     "output_type": "execute_result"
    }
   ],
   "source": [
    "# Check ratio of Win_enc to see if stratification is needed\n",
    "ufc_df_concat2['Win_enc'].describe()"
   ]
  },
  {
   "cell_type": "code",
   "execution_count": 38,
   "id": "c7e54117",
   "metadata": {
    "execution": {
     "iopub.execute_input": "2024-02-15T23:34:13.420905Z",
     "iopub.status.busy": "2024-02-15T23:34:13.420510Z",
     "iopub.status.idle": "2024-02-15T23:34:13.429833Z",
     "shell.execute_reply": "2024-02-15T23:34:13.428640Z"
    },
    "papermill": {
     "duration": 0.029559,
     "end_time": "2024-02-15T23:34:13.431995",
     "exception": false,
     "start_time": "2024-02-15T23:34:13.402436",
     "status": "completed"
    },
    "tags": []
   },
   "outputs": [],
   "source": [
    "# Isolate the outcome variable and create a split \n",
    "y = ufc_df_concat2['Win_enc']\n",
    "X = ufc_df_concat2.drop(['Win_enc'], axis=1)\n",
    "X_train, X_test, y_train, y_test = train_test_split(X, y, random_state=42)"
   ]
  },
  {
   "cell_type": "code",
   "execution_count": 39,
   "id": "8fcef6a3",
   "metadata": {
    "execution": {
     "iopub.execute_input": "2024-02-15T23:34:13.461615Z",
     "iopub.status.busy": "2024-02-15T23:34:13.461225Z",
     "iopub.status.idle": "2024-02-15T23:34:13.509885Z",
     "shell.execute_reply": "2024-02-15T23:34:13.509063Z"
    },
    "papermill": {
     "duration": 0.066542,
     "end_time": "2024-02-15T23:34:13.512582",
     "exception": false,
     "start_time": "2024-02-15T23:34:13.446040",
     "status": "completed"
    },
    "tags": []
   },
   "outputs": [],
   "source": [
    "# Logistic regression\n",
    "log_clf = LogisticRegression(random_state=42, max_iter=500).fit(X_train, y_train)\n",
    "y_pred = log_clf.predict(X_test)"
   ]
  },
  {
   "cell_type": "code",
   "execution_count": 40,
   "id": "dc19f654",
   "metadata": {
    "execution": {
     "iopub.execute_input": "2024-02-15T23:34:13.551653Z",
     "iopub.status.busy": "2024-02-15T23:34:13.550952Z",
     "iopub.status.idle": "2024-02-15T23:34:13.724308Z",
     "shell.execute_reply": "2024-02-15T23:34:13.723282Z"
    },
    "papermill": {
     "duration": 0.194996,
     "end_time": "2024-02-15T23:34:13.726374",
     "exception": false,
     "start_time": "2024-02-15T23:34:13.531378",
     "status": "completed"
    },
    "tags": []
   },
   "outputs": [
    {
     "data": {
      "image/png": "[encoded data removed]",
      "text/plain": [
       "<Figure size 640x480 with 2 Axes>"
      ]
     },
     "metadata": {},
     "output_type": "display_data"
    }
   ],
   "source": [
    "# Compute values for confusion matrix\n",
    "log_cm = confusion_matrix(y_test, y_pred, labels=log_clf.classes_)\n",
    "\n",
    "# Create display of confusion matrix\n",
    "log_disp = ConfusionMatrixDisplay(confusion_matrix=log_cm, \n",
    "                                  display_labels=log_clf.classes_)\n",
    "\n",
    "# Plot confusion matrix\n",
    "log_disp.plot(values_format='')\n",
    "\n",
    "# Display plot\n",
    "plt.show()"
   ]
  },
  {
   "cell_type": "code",
   "execution_count": 41,
   "id": "003b50ad",
   "metadata": {
    "execution": {
     "iopub.execute_input": "2024-02-15T23:34:13.765124Z",
     "iopub.status.busy": "2024-02-15T23:34:13.764729Z",
     "iopub.status.idle": "2024-02-15T23:34:13.770108Z",
     "shell.execute_reply": "2024-02-15T23:34:13.768447Z"
    },
    "papermill": {
     "duration": 0.027581,
     "end_time": "2024-02-15T23:34:13.772477",
     "exception": false,
     "start_time": "2024-02-15T23:34:13.744896",
     "status": "completed"
    },
    "tags": []
   },
   "outputs": [],
   "source": [
    "# 1438 True negatitves, 1227 True positives\n",
    "# 561 False negatives, 411 False positives "
   ]
  },
  {
   "cell_type": "code",
   "execution_count": 42,
   "id": "f7e92077",
   "metadata": {
    "execution": {
     "iopub.execute_input": "2024-02-15T23:34:13.808164Z",
     "iopub.status.busy": "2024-02-15T23:34:13.807256Z",
     "iopub.status.idle": "2024-02-15T23:34:13.828472Z",
     "shell.execute_reply": "2024-02-15T23:34:13.827619Z"
    },
    "papermill": {
     "duration": 0.041133,
     "end_time": "2024-02-15T23:34:13.830739",
     "exception": false,
     "start_time": "2024-02-15T23:34:13.789606",
     "status": "completed"
    },
    "tags": []
   },
   "outputs": [
    {
     "name": "stdout",
     "output_type": "stream",
     "text": [
      "                         precision    recall  f1-score   support\n",
      "\n",
      "Predicted would not win       0.72      0.78      0.75      1849\n",
      "    Predicted would win       0.75      0.69      0.72      1788\n",
      "\n",
      "               accuracy                           0.73      3637\n",
      "              macro avg       0.73      0.73      0.73      3637\n",
      "           weighted avg       0.73      0.73      0.73      3637\n",
      "\n"
     ]
    }
   ],
   "source": [
    "# Create classification report for logistic regression model\n",
    "target_names = ['Predicted would not win', 'Predicted would win']\n",
    "print(classification_report(y_test, y_pred, target_names=target_names))"
   ]
  },
  {
   "cell_type": "code",
   "execution_count": 43,
   "id": "fbe30aad",
   "metadata": {
    "execution": {
     "iopub.execute_input": "2024-02-15T23:34:13.862928Z",
     "iopub.status.busy": "2024-02-15T23:34:13.862364Z",
     "iopub.status.idle": "2024-02-15T23:34:13.869172Z",
     "shell.execute_reply": "2024-02-15T23:34:13.868194Z"
    },
    "papermill": {
     "duration": 0.02558,
     "end_time": "2024-02-15T23:34:13.871380",
     "exception": false,
     "start_time": "2024-02-15T23:34:13.845800",
     "status": "completed"
    },
    "tags": []
   },
   "outputs": [],
   "source": [
    "def make_results(model_name:str, model_object, metric:str):\n",
    "    metric_dict = {'auc': 'mean_test_roc_auc',\n",
    "                   'precision': 'mean_test_precision',\n",
    "                   'recall': 'mean_test_recall',\n",
    "                   'f1': 'mean_test_f1',\n",
    "                   'accuracy': 'mean_test_accuracy'}\n",
    "    cv_results = pd.DataFrame(model_object.cv_results_)\n",
    "    best_estimator_results = cv_results.iloc[cv_results[metric_dict[metric]].idxmax(), :]\n",
    "    auc = best_estimator_results.mean_test_roc_auc\n",
    "    f1 = best_estimator_results.mean_test_f1\n",
    "    recall = best_estimator_results.mean_test_recall\n",
    "    precision = best_estimator_results.mean_test_precision\n",
    "    accuracy = best_estimator_results.mean_test_accuracy\n",
    "    table = pd.DataFrame()\n",
    "    table = pd.DataFrame({'model': [model_name],\n",
    "                          'precision': [precision],\n",
    "                          'recall': [recall],\n",
    "                          'F1': [f1],\n",
    "                          'accuracy': [accuracy],\n",
    "                          'auc': [auc]})\n",
    "    return table"
   ]
  },
  {
   "cell_type": "code",
   "execution_count": 44,
   "id": "f2555eef",
   "metadata": {
    "execution": {
     "iopub.execute_input": "2024-02-15T23:34:13.905491Z",
     "iopub.status.busy": "2024-02-15T23:34:13.904898Z",
     "iopub.status.idle": "2024-02-15T23:34:13.910544Z",
     "shell.execute_reply": "2024-02-15T23:34:13.909813Z"
    },
    "papermill": {
     "duration": 0.026281,
     "end_time": "2024-02-15T23:34:13.912722",
     "exception": false,
     "start_time": "2024-02-15T23:34:13.886441",
     "status": "completed"
    },
    "tags": []
   },
   "outputs": [],
   "source": [
    "# Tree based approach\n",
    "# Instantiate model\n",
    "rf = RandomForestClassifier(random_state=42)\n",
    "\n",
    "# Assign a dictionary of hyperparameters to search over\n",
    "cv_params = {'max_depth': [3,5], \n",
    "             'max_features': [1.0],\n",
    "             'max_samples': [0.7, 1.0],\n",
    "             'min_samples_leaf': [1,2,3],\n",
    "             'min_samples_split': [2,3,4],\n",
    "             'n_estimators': [30, 50],\n",
    "             }  \n",
    "\n",
    "# Assign a dictionary of scoring metrics to capture\n",
    "scoring = {'accuracy', 'precision', 'recall', 'f1', 'roc_auc'}\n",
    "\n",
    "# Instantiate GridSearch\n",
    "rf1 = GridSearchCV(rf, cv_params, scoring=scoring, cv=4, refit='roc_auc')"
   ]
  },
  {
   "cell_type": "code",
   "execution_count": 45,
   "id": "20db4dc7",
   "metadata": {
    "execution": {
     "iopub.execute_input": "2024-02-15T23:34:13.944372Z",
     "iopub.status.busy": "2024-02-15T23:34:13.943737Z",
     "iopub.status.idle": "2024-02-15T23:35:11.258248Z",
     "shell.execute_reply": "2024-02-15T23:35:11.257332Z"
    },
    "papermill": {
     "duration": 57.347679,
     "end_time": "2024-02-15T23:35:11.275214",
     "exception": false,
     "start_time": "2024-02-15T23:34:13.927535",
     "status": "completed"
    },
    "tags": []
   },
   "outputs": [
    {
     "name": "stdout",
     "output_type": "stream",
     "text": [
      "CPU times: user 57 s, sys: 186 ms, total: 57.2 s\n",
      "Wall time: 57.3 s\n"
     ]
    },
    {
     "data": {
      "text/html": [
       "<style>#sk-container-id-1 {color: black;background-color: white;}#sk-container-id-1 pre{padding: 0;}#sk-container-id-1 div.sk-toggleable {background-color: white;}#sk-container-id-1 label.sk-toggleable__label {cursor: pointer;display: block;width: 100%;margin-bottom: 0;padding: 0.3em;box-sizing: border-box;text-align: center;}#sk-container-id-1 label.sk-toggleable__label-arrow:before {content: \"▸\";float: left;margin-right: 0.25em;color: #696969;}#sk-container-id-1 label.sk-toggleable__label-arrow:hover:before {color: black;}#sk-container-id-1 div.sk-estimator:hover label.sk-toggleable__label-arrow:before {color: black;}#sk-container-id-1 div.sk-toggleable__content {max-height: 0;max-width: 0;overflow: hidden;text-align: left;background-color: #f0f8ff;}#sk-container-id-1 div.sk-toggleable__content pre {margin: 0.2em;color: black;border-radius: 0.25em;background-color: #f0f8ff;}#sk-container-id-1 input.sk-toggleable__control:checked~div.sk-toggleable__content {max-height: 200px;max-width: 100%;overflow: auto;}#sk-container-id-1 input.sk-toggleable__control:checked~label.sk-toggleable__label-arrow:before {content: \"▾\";}#sk-container-id-1 div.sk-estimator input.sk-toggleable__control:checked~label.sk-toggleable__label {background-color: #d4ebff;}#sk-container-id-1 div.sk-label input.sk-toggleable__control:checked~label.sk-toggleable__label {background-color: #d4ebff;}#sk-container-id-1 input.sk-hidden--visually {border: 0;clip: rect(1px 1px 1px 1px);clip: rect(1px, 1px, 1px, 1px);height: 1px;margin: -1px;overflow: hidden;padding: 0;position: absolute;width: 1px;}#sk-container-id-1 div.sk-estimator {font-family: monospace;background-color: #f0f8ff;border: 1px dotted black;border-radius: 0.25em;box-sizing: border-box;margin-bottom: 0.5em;}#sk-container-id-1 div.sk-estimator:hover {background-color: #d4ebff;}#sk-container-id-1 div.sk-parallel-item::after {content: \"\";width: 100%;border-bottom: 1px solid gray;flex-grow: 1;}#sk-container-id-1 div.sk-label:hover label.sk-toggleable__label {background-color: #d4ebff;}#sk-container-id-1 div.sk-serial::before {content: \"\";position: absolute;border-left: 1px solid gray;box-sizing: border-box;top: 0;bottom: 0;left: 50%;z-index: 0;}#sk-container-id-1 div.sk-serial {display: flex;flex-direction: column;align-items: center;background-color: white;padding-right: 0.2em;padding-left: 0.2em;position: relative;}#sk-container-id-1 div.sk-item {position: relative;z-index: 1;}#sk-container-id-1 div.sk-parallel {display: flex;align-items: stretch;justify-content: center;background-color: white;position: relative;}#sk-container-id-1 div.sk-item::before, #sk-container-id-1 div.sk-parallel-item::before {content: \"\";position: absolute;border-left: 1px solid gray;box-sizing: border-box;top: 0;bottom: 0;left: 50%;z-index: -1;}#sk-container-id-1 div.sk-parallel-item {display: flex;flex-direction: column;z-index: 1;position: relative;background-color: white;}#sk-container-id-1 div.sk-parallel-item:first-child::after {align-self: flex-end;width: 50%;}#sk-container-id-1 div.sk-parallel-item:last-child::after {align-self: flex-start;width: 50%;}#sk-container-id-1 div.sk-parallel-item:only-child::after {width: 0;}#sk-container-id-1 div.sk-dashed-wrapped {border: 1px dashed gray;margin: 0 0.4em 0.5em 0.4em;box-sizing: border-box;padding-bottom: 0.4em;background-color: white;}#sk-container-id-1 div.sk-label label {font-family: monospace;font-weight: bold;display: inline-block;line-height: 1.2em;}#sk-container-id-1 div.sk-label-container {text-align: center;}#sk-container-id-1 div.sk-container {/* jupyter's `normalize.less` sets `[hidden] { display: none; }` but bootstrap.min.css set `[hidden] { display: none !important; }` so we also need the `!important` here to be able to override the default hidden behavior on the sphinx rendered scikit-learn.org. See: https://github.com/scikit-learn/scikit-learn/issues/21755 */display: inline-block !important;position: relative;}#sk-container-id-1 div.sk-text-repr-fallback {display: none;}</style><div id=\"sk-container-id-1\" class=\"sk-top-container\"><div class=\"sk-text-repr-fallback\"><pre>GridSearchCV(cv=4, estimator=RandomForestClassifier(random_state=42),\n",
       "             param_grid={&#x27;max_depth&#x27;: [3, 5], &#x27;max_features&#x27;: [1.0],\n",
       "                         &#x27;max_samples&#x27;: [0.7, 1.0],\n",
       "                         &#x27;min_samples_leaf&#x27;: [1, 2, 3],\n",
       "                         &#x27;min_samples_split&#x27;: [2, 3, 4],\n",
       "                         &#x27;n_estimators&#x27;: [30, 50]},\n",
       "             refit=&#x27;roc_auc&#x27;,\n",
       "             scoring={&#x27;accuracy&#x27;, &#x27;precision&#x27;, &#x27;f1&#x27;, &#x27;recall&#x27;, &#x27;roc_auc&#x27;})</pre><b>In a Jupyter environment, please rerun this cell to show the HTML representation or trust the notebook. <br />On GitHub, the HTML representation is unable to render, please try loading this page with nbviewer.org.</b></div><div class=\"sk-container\" hidden><div class=\"sk-item sk-dashed-wrapped\"><div class=\"sk-label-container\"><div class=\"sk-label sk-toggleable\"><input class=\"sk-toggleable__control sk-hidden--visually\" id=\"sk-estimator-id-1\" type=\"checkbox\" ><label for=\"sk-estimator-id-1\" class=\"sk-toggleable__label sk-toggleable__label-arrow\">GridSearchCV</label><div class=\"sk-toggleable__content\"><pre>GridSearchCV(cv=4, estimator=RandomForestClassifier(random_state=42),\n",
       "             param_grid={&#x27;max_depth&#x27;: [3, 5], &#x27;max_features&#x27;: [1.0],\n",
       "                         &#x27;max_samples&#x27;: [0.7, 1.0],\n",
       "                         &#x27;min_samples_leaf&#x27;: [1, 2, 3],\n",
       "                         &#x27;min_samples_split&#x27;: [2, 3, 4],\n",
       "                         &#x27;n_estimators&#x27;: [30, 50]},\n",
       "             refit=&#x27;roc_auc&#x27;,\n",
       "             scoring={&#x27;accuracy&#x27;, &#x27;precision&#x27;, &#x27;f1&#x27;, &#x27;recall&#x27;, &#x27;roc_auc&#x27;})</pre></div></div></div><div class=\"sk-parallel\"><div class=\"sk-parallel-item\"><div class=\"sk-item\"><div class=\"sk-label-container\"><div class=\"sk-label sk-toggleable\"><input class=\"sk-toggleable__control sk-hidden--visually\" id=\"sk-estimator-id-2\" type=\"checkbox\" ><label for=\"sk-estimator-id-2\" class=\"sk-toggleable__label sk-toggleable__label-arrow\">estimator: RandomForestClassifier</label><div class=\"sk-toggleable__content\"><pre>RandomForestClassifier(random_state=42)</pre></div></div></div><div class=\"sk-serial\"><div class=\"sk-item\"><div class=\"sk-estimator sk-toggleable\"><input class=\"sk-toggleable__control sk-hidden--visually\" id=\"sk-estimator-id-3\" type=\"checkbox\" ><label for=\"sk-estimator-id-3\" class=\"sk-toggleable__label sk-toggleable__label-arrow\">RandomForestClassifier</label><div class=\"sk-toggleable__content\"><pre>RandomForestClassifier(random_state=42)</pre></div></div></div></div></div></div></div></div></div></div>"
      ],
      "text/plain": [
       "GridSearchCV(cv=4, estimator=RandomForestClassifier(random_state=42),\n",
       "             param_grid={'max_depth': [3, 5], 'max_features': [1.0],\n",
       "                         'max_samples': [0.7, 1.0],\n",
       "                         'min_samples_leaf': [1, 2, 3],\n",
       "                         'min_samples_split': [2, 3, 4],\n",
       "                         'n_estimators': [30, 50]},\n",
       "             refit='roc_auc',\n",
       "             scoring={'accuracy', 'precision', 'f1', 'recall', 'roc_auc'})"
      ]
     },
     "execution_count": 45,
     "metadata": {},
     "output_type": "execute_result"
    }
   ],
   "source": [
    "%%time\n",
    "rf1.fit(X_train, y_train)"
   ]
  },
  {
   "cell_type": "code",
   "execution_count": 46,
   "id": "23b476e0",
   "metadata": {
    "execution": {
     "iopub.execute_input": "2024-02-15T23:35:11.306774Z",
     "iopub.status.busy": "2024-02-15T23:35:11.306376Z",
     "iopub.status.idle": "2024-02-15T23:35:11.314001Z",
     "shell.execute_reply": "2024-02-15T23:35:11.312736Z"
    },
    "papermill": {
     "duration": 0.025824,
     "end_time": "2024-02-15T23:35:11.316089",
     "exception": false,
     "start_time": "2024-02-15T23:35:11.290265",
     "status": "completed"
    },
    "tags": []
   },
   "outputs": [],
   "source": [
    "# Pickle the model\n",
    "import pickle\n",
    "pickle.dump(rf1, open('rf1.pk1', 'wb'))"
   ]
  },
  {
   "cell_type": "code",
   "execution_count": 47,
   "id": "9afcde9b",
   "metadata": {
    "execution": {
     "iopub.execute_input": "2024-02-15T23:35:11.347241Z",
     "iopub.status.busy": "2024-02-15T23:35:11.346904Z",
     "iopub.status.idle": "2024-02-15T23:35:11.353748Z",
     "shell.execute_reply": "2024-02-15T23:35:11.352489Z"
    },
    "papermill": {
     "duration": 0.025107,
     "end_time": "2024-02-15T23:35:11.356075",
     "exception": false,
     "start_time": "2024-02-15T23:35:11.330968",
     "status": "completed"
    },
    "tags": []
   },
   "outputs": [
    {
     "data": {
      "text/plain": [
       "0.8304514967612959"
      ]
     },
     "execution_count": 47,
     "metadata": {},
     "output_type": "execute_result"
    }
   ],
   "source": [
    "# Check best AUC score on CV\n",
    "rf1.best_score_"
   ]
  },
  {
   "cell_type": "code",
   "execution_count": 48,
   "id": "6bd912bc",
   "metadata": {
    "execution": {
     "iopub.execute_input": "2024-02-15T23:35:11.389749Z",
     "iopub.status.busy": "2024-02-15T23:35:11.389352Z",
     "iopub.status.idle": "2024-02-15T23:35:11.395419Z",
     "shell.execute_reply": "2024-02-15T23:35:11.394481Z"
    },
    "papermill": {
     "duration": 0.024827,
     "end_time": "2024-02-15T23:35:11.397093",
     "exception": false,
     "start_time": "2024-02-15T23:35:11.372266",
     "status": "completed"
    },
    "tags": []
   },
   "outputs": [
    {
     "data": {
      "text/plain": [
       "{'max_depth': 5,\n",
       " 'max_features': 1.0,\n",
       " 'max_samples': 0.7,\n",
       " 'min_samples_leaf': 3,\n",
       " 'min_samples_split': 2,\n",
       " 'n_estimators': 50}"
      ]
     },
     "execution_count": 48,
     "metadata": {},
     "output_type": "execute_result"
    }
   ],
   "source": [
    "# Check best params\n",
    "rf1.best_params_"
   ]
  },
  {
   "cell_type": "code",
   "execution_count": 49,
   "id": "d35a6701",
   "metadata": {
    "execution": {
     "iopub.execute_input": "2024-02-15T23:35:11.429154Z",
     "iopub.status.busy": "2024-02-15T23:35:11.428822Z",
     "iopub.status.idle": "2024-02-15T23:35:11.623171Z",
     "shell.execute_reply": "2024-02-15T23:35:11.621825Z"
    },
    "papermill": {
     "duration": 0.213565,
     "end_time": "2024-02-15T23:35:11.626026",
     "exception": false,
     "start_time": "2024-02-15T23:35:11.412461",
     "status": "completed"
    },
    "tags": []
   },
   "outputs": [
    {
     "data": {
      "image/png": "[encoded data removed]",
      "text/plain": [
       "<Figure size 640x480 with 2 Axes>"
      ]
     },
     "metadata": {},
     "output_type": "display_data"
    }
   ],
   "source": [
    "# Generate array of values for confusion matrix\n",
    "preds = rf1.best_estimator_.predict(X_test)\n",
    "cm = confusion_matrix(y_test, preds, labels=rf1.classes_)\n",
    "\n",
    "# Plot confusion matrix\n",
    "disp = ConfusionMatrixDisplay(confusion_matrix=cm,\n",
    "                             display_labels=rf1.classes_)\n",
    "disp.plot(values_format='');"
   ]
  },
  {
   "cell_type": "code",
   "execution_count": 50,
   "id": "b10bd9de",
   "metadata": {
    "execution": {
     "iopub.execute_input": "2024-02-15T23:35:11.659485Z",
     "iopub.status.busy": "2024-02-15T23:35:11.659145Z",
     "iopub.status.idle": "2024-02-15T23:35:11.663783Z",
     "shell.execute_reply": "2024-02-15T23:35:11.662820Z"
    },
    "papermill": {
     "duration": 0.023297,
     "end_time": "2024-02-15T23:35:11.665523",
     "exception": false,
     "start_time": "2024-02-15T23:35:11.642226",
     "status": "completed"
    },
    "tags": []
   },
   "outputs": [],
   "source": [
    "# 1285 True negatitves, 1436 True positives\n",
    "# 352 False negatives, 564 False positives \n",
    "\n",
    "# Compared to\n",
    "# 1438 True negatitves, 1227 True positives\n",
    "# 561 False negatives, 411 False positives \n",
    "\n",
    "# The randomforest model is better at predicting true positives and false negatives\n",
    "# The logisticregression model is better at predicting true negatives and false positives"
   ]
  }
 ],
 "metadata": {
  "kaggle": {
   "accelerator": "none",
   "dataSources": [
    {
     "datasetId": 4296510,
     "sourceId": 7390953,
     "sourceType": "datasetVersion"
    }
   ],
   "dockerImageVersionId": 30646,
   "isGpuEnabled": false,
   "isInternetEnabled": true,
   "language": "python",
   "sourceType": "notebook"
  },
  "kernelspec": {
   "display_name": "Python 3",
   "language": "python",
   "name": "python3"
  },
  "language_info": {
   "codemirror_mode": {
    "name": "ipython",
    "version": 3
   },
   "file_extension": ".py",
   "mimetype": "text/x-python",
   "name": "python",
   "nbconvert_exporter": "python",
   "pygments_lexer": "ipython3",
   "version": "3.10.13"
  },
  "papermill": {
   "default_parameters": {},
   "duration": 67.28701,
   "end_time": "2024-02-15T23:35:12.301282",
   "environment_variables": {},
   "exception": null,
   "input_path": "__notebook__.ipynb",
   "output_path": "__notebook__.ipynb",
   "parameters": {},
   "start_time": "2024-02-15T23:34:05.014272",
   "version": "2.5.0"
  }
 },
 "nbformat": 4,
 "nbformat_minor": 5
}
